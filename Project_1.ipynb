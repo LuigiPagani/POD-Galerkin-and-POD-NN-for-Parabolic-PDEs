{
  "nbformat": 4,
  "nbformat_minor": 0,
  "metadata": {
    "colab": {
      "provenance": [],
      "authorship_tag": "ABX9TyPHf1S6DwwGEXVCnABJE4FR",
      "include_colab_link": true
    },
    "kernelspec": {
      "name": "python3",
      "display_name": "Python 3"
    },
    "language_info": {
      "name": "python"
    }
  },
  "cells": [
    {
      "cell_type": "markdown",
      "metadata": {
        "id": "view-in-github",
        "colab_type": "text"
      },
      "source": [
        "<a href=\"https://colab.research.google.com/github/LuigiPagani/ROM-with-POD-and-DL/blob/main/Project_1.ipynb\" target=\"_parent\"><img src=\"https://colab.research.google.com/assets/colab-badge.svg\" alt=\"Open In Colab\"/></a>"
      ]
    },
    {
      "cell_type": "code",
      "execution_count": 1,
      "metadata": {
        "id": "ZR7pnH5RdYP-",
        "colab": {
          "base_uri": "https://localhost:8080/"
        },
        "outputId": "bfde2521-a596-4f49-f080-ebd07de8b373"
      },
      "outputs": [
        {
          "output_type": "stream",
          "name": "stdout",
          "text": [
            "Collecting pyDOE\n",
            "  Downloading pyDOE-0.3.8.zip (22 kB)\n",
            "  Preparing metadata (setup.py) ... \u001b[?25l\u001b[?25hdone\n",
            "Requirement already satisfied: numpy in /usr/local/lib/python3.10/dist-packages (from pyDOE) (1.25.2)\n",
            "Requirement already satisfied: scipy in /usr/local/lib/python3.10/dist-packages (from pyDOE) (1.11.4)\n",
            "Building wheels for collected packages: pyDOE\n",
            "  Building wheel for pyDOE (setup.py) ... \u001b[?25l\u001b[?25hdone\n",
            "  Created wheel for pyDOE: filename=pyDOE-0.3.8-py3-none-any.whl size=18168 sha256=fcf0ca7370faa7baa5d8dd172575be6582689de5ccb6184b65e4b9890b96aaf5\n",
            "  Stored in directory: /root/.cache/pip/wheels/ce/b6/d7/c6b64746dba6433c593e471e0ac3acf4f36040456d1d160d17\n",
            "Successfully built pyDOE\n",
            "Installing collected packages: pyDOE\n",
            "Successfully installed pyDOE-0.3.8\n"
          ]
        }
      ],
      "source": [
        "try:\n",
        "     from dlroms import*\n",
        "except:\n",
        "     !pip install git+https://github.com/NicolaRFranco/dlroms.git\n",
        "     from dlroms import*\n",
        "!pip install pyDOE\n",
        "\n"
      ]
    },
    {
      "cell_type": "markdown",
      "source": [
        "**Preliminaries**"
      ],
      "metadata": {
        "id": "Ld5u_Did5Yeb"
      }
    },
    {
      "cell_type": "code",
      "source": [
        "import numpy as np\n",
        "from fenics import *\n",
        "from pyDOE import lhs\n",
        "from scipy.sparse.linalg import spsolve\n",
        "import dlroms.fespaces as fe\n",
        "import numpy as np\n",
        "from scipy.sparse.linalg import spsolve\n",
        "from scipy.sparse import csr_matrix\n",
        "from convdiff import Stokes_solver\n",
        "import scipy.sparse as sp\n",
        "from scipy.sparse.linalg import spsolve\n",
        "\n",
        "mesh = fe.unitsquaremesh(30, 30)\n",
        "Vh = fe.space(mesh, 'CG', 1) # FE space for u (chemical concentration)\n",
        "bspace = fe.space(mesh, \"CG\", 1, scalar = False, bubble = True) # FE space for b (transport field)\n",
        "\n",
        "def Convdiff_solver(w1, w2, steps = 50, dt = 5e-4):\n",
        "    # Assembling relevant operators\n",
        "    v1, v2 = TrialFunction(Vh), TestFunction(Vh)\n",
        "    M = sp.csr_matrix(assemble(v1*v2*dx).array()) # mass matrix\n",
        "    S = sp.csr_matrix(assemble(inner(grad(v1), grad(v2))*dx).array()) # stiffness (diffusion) matrix\n",
        "\n",
        "    b = Stokes_solver(w1, w2)\n",
        "    b1 = Stokes_solver(1,0)\n",
        "    b2 = Stokes_solver(0,1)\n",
        "    bf = fe.asvector(b, bspace)\n",
        "    bf1 = fe.asvector(b1, bspace)\n",
        "    bf2 = fe.asvector(b2, bspace)\n",
        "\n",
        "    B = sp.csr_matrix(assemble(inner(bf, grad(v1))*v2*dx).array()) # transport matrix\n",
        "    B1 = sp.csr_matrix(assemble(inner(bf1, grad(v1))*v2*dx).array())\n",
        "    B2 = sp.csr_matrix(assemble(inner(bf2, grad(v1))*v2*dx).array())\n",
        "\n",
        "    # Time-stepping scheme\n",
        "    def FOMstep(u0, dt, b):\n",
        "        A = M + dt*S + 1000*dt*B\n",
        "        F = M @ u0\n",
        "        return spsolve(A, F)\n",
        "\n",
        "    # Initial condition\n",
        "    x, y = fe.coordinates(Vh).T\n",
        "    u0 = np.exp(-16*(x-0.5)**2 -16*(y-0.5)**2)\n",
        "\n",
        "    # Initialize storage for solution as a NumPy array\n",
        "    u = np.empty((len(u0), steps + 1))\n",
        "    u[:, 0] = u0\n",
        "\n",
        "    # Time loop\n",
        "    for n in range(steps):\n",
        "        u[:, n + 1] = FOMstep(u[:, n], dt, b)\n",
        "\n",
        "    return u, M, S, B, B1, B2\n",
        "\n",
        "\n",
        "# Define the parameter space\n",
        "n_samples = 100  # Reduced number of samples\n",
        "parameter_ranges = [np.linspace(0, 10, 100), np.linspace(0, 10, 100)]  # Define parameter ranges\n",
        "\n",
        "# Generate Latin Hypercube Samples\n",
        "lhs_samples = lhs(2, samples=n_samples, criterion='center')  # 2 for two parameters, criterion 'center' for centered samples\n",
        "params = np.array([parameter_ranges[0][((lhs_samples[:, i] * 99).astype(int))] for i in range(2)]).T\n",
        "\n",
        "# Generate snapshots\n",
        "snapshots = []  # Initialize an empty list to store matrices\n",
        "for w1, w2 in params:\n",
        "    u, M, S, B,B1,B2 = Convdiff_solver(w1, w2)  # Get the time series data and matrices from the solver\n",
        "    u = u.reshape(961, -1)  # Reshape u to have consistent dimensions\n",
        "    if len(snapshots) == 0:\n",
        "        snapshots = u  # If snapshots is empty, initialize it with the first u\n",
        "    else:\n",
        "        snapshots = np.hstack((snapshots, u))  # Stack u horizontally with the existing snapshots\n",
        "\n",
        "\n"
      ],
      "metadata": {
        "id": "zO0Tl5IZ1iEl"
      },
      "execution_count": 152,
      "outputs": []
    },
    {
      "cell_type": "markdown",
      "source": [
        "**Matrix Assembly**"
      ],
      "metadata": {
        "id": "pX5lKM4X5caS"
      }
    },
    {
      "cell_type": "code",
      "source": [
        "from scipy.linalg import svd\n",
        "\n",
        "U, s, Vt = svd(snapshots, full_matrices=False)\n",
        "\n",
        "\n",
        "# Now you can apply SVD or any other analysis you wish to this giant matrix\n",
        "from scipy.linalg import svd\n",
        "U, s, Vt = svd(snapshots, full_matrices=False)\n",
        "\n",
        "energy = np.cumsum(s**2) / np.sum(s**2)\n",
        "\n",
        "# Determine number of modes to retain 99% of energy\n",
        "n_modes = np.searchsorted(energy, 0.99)\n",
        "\n",
        "V = U[:, :n_modes]\n",
        "\n",
        "\n",
        "\n",
        "mesh = fe.unitsquaremesh(30, 30)\n",
        "Vh = fe.space(mesh, 'CG', 1) # FE space for u (chemical concentration)\n",
        "bspace = fe.space(mesh, \"CG\", 1, scalar = False, bubble = True) # FE space for b (transport field)\n",
        "\n",
        "from scipy.sparse import csr_matrix\n",
        "\n",
        "# Assuming we have a function to assemble FOM matrices\n",
        "w1 = 5\n",
        "w2 = 5\n",
        "u, M_fom, S_fom, B_fom,B1_fom,B2_fom = Convdiff_solver(w1, w2, steps = 50, dt = 5e-4)\n",
        "\n",
        "M_rb = V.T @ M_fom @ V\n",
        "S_rb = V.T @ S_fom @ V\n",
        "B_rb = V.T @ B_fom @ V\n",
        "B1_rb = V.T @ B1_fom @ V\n",
        "B2_rb = V.T @ B2_fom @ V\n",
        "\n",
        "# Calculate the linear combination of B1 and B2 using the given weights\n",
        "B_combined_fom = w1 * B1_fom + w2 * B2_fom\n",
        "\n",
        "# Compute the difference between B_fom and the weighted linear combination\n",
        "difference_fom = B_fom - B_combined_fom\n",
        "print(V.shape)\n",
        "\n",
        "\n"
      ],
      "metadata": {
        "colab": {
          "base_uri": "https://localhost:8080/"
        },
        "id": "FC7OUofh5J6T",
        "outputId": "803ccddf-d8b3-40e5-9f7d-5cb0aadf89c4"
      },
      "execution_count": 165,
      "outputs": [
        {
          "output_type": "stream",
          "name": "stdout",
          "text": [
            "(961, 5)\n"
          ]
        }
      ]
    },
    {
      "cell_type": "code",
      "source": [
        "import matplotlib.pyplot as plt\n",
        "import numpy as np\n",
        "\n",
        "# Assuming 's' contains your singular values from the SVD\n",
        "singular_values = s[1:60]  # Exclude the largest singular value\n",
        "\n",
        "# Plotting the remaining singular values\n",
        "plt.figure(figsize=(10, 6))\n",
        "plt.plot(singular_values, marker='o')\n",
        "plt.title('Singular Values Excluding the Largest')\n",
        "plt.xlabel('Index')\n",
        "plt.ylabel('Singular Value')\n",
        "plt.grid(True)\n",
        "plt.show()\n"
      ],
      "metadata": {
        "colab": {
          "base_uri": "https://localhost:8080/",
          "height": 564
        },
        "id": "aB31sUfiHNdx",
        "outputId": "7491d033-f65d-4a01-9024-293db19c046a"
      },
      "execution_count": 166,
      "outputs": [
        {
          "output_type": "display_data",
          "data": {
            "text/plain": [
              "<Figure size 1000x600 with 1 Axes>"
            ],
            "image/png": "[encoded data removed]"
          },
          "metadata": {}
        }
      ]
    },
    {
      "cell_type": "markdown",
      "source": [
        "**Time Stepping**\n",
        "Fixes Pending\n"
      ],
      "metadata": {
        "id": "7meAckYj5gfN"
      }
    },
    {
      "cell_type": "code",
      "source": [
        "\n",
        "def RBstep(u_rb, dt):\n",
        "    # Assuming M_rb, S_rb, B1_rb, B2_rb, w1, w2 are defined elsewhere and are numpy arrays\n",
        "    A_rb = M_rb + dt * S_rb + 1000 * dt * (w1 * B1_rb + w2 * B2_rb)\n",
        "    F_rb = M_rb @ u_rb\n",
        "    return np.linalg.solve(A_rb, F_rb)\n",
        "\n",
        "# Assuming 'V' is the matrix containing the left singular vectors (reduced basis vectors)\n",
        "# and 'u' contains the simulation snapshots from the Full Order Model (FOM).\n",
        "\n",
        "u0_rb = V.T @ u[:,0]  # Project the initial condition onto the reduced basis\n",
        "\n",
        "# Number of time steps based on final time T and time step dt\n",
        "T_final = 0.025\n",
        "dt = 5e-4\n",
        "n_steps = int(T_final / dt)\n",
        "\n",
        "# Initialize storage for RB solution as a NumPy array\n",
        "u_rb = np.zeros((V.shape[1], n_steps + 1))  # V.shape[1] is the number of reduced basis vectors\n",
        "u_rb[:, 0] = u0_rb\n",
        "\n",
        "# Time-stepping loop for the RB method\n",
        "for n in range(n_steps):\n",
        "    u_rb[:, n + 1] = RBstep(u_rb[:, n], dt)\n",
        "\n",
        "# Optionally, convert back to full space for visualization or further analysis\n",
        "u_rb_full = V @ u_rb  # This results in each column representing the solution at a time step\n",
        "\n",
        "# If you need to transpose for further processing:"
      ],
      "metadata": {
        "id": "wflxIa1llF3H"
      },
      "execution_count": 167,
      "outputs": []
    },
    {
      "cell_type": "markdown",
      "source": [
        "**Error Calculation**"
      ],
      "metadata": {
        "id": "dCyrrz4t0QKC"
      }
    },
    {
      "cell_type": "code",
      "source": [
        "\n",
        "# Assuming 'u' is the original full matrix, and 'u_rb_full' is the reconstructed matrix after reduction and back-projection\n",
        "\n",
        "error_vector = u - u_rb_full\n",
        "\n",
        "# Calculate the norm of the difference (numerator of the relative error)\n",
        "error_norm = np.linalg.norm(error_vector, axis=0)  # Since we transposed, use axis=0 to operate along columns\n",
        "\n",
        "# Calculate the norm of the original vector (denominator of the relative error)\n",
        "u_norm = np.linalg.norm(u, axis=0)  # Norm of each column in the original matrix\n",
        "\n",
        "# Calculate the relative error for each column\n",
        "relative_error = error_norm / u_norm\n",
        "\n",
        "# Calculate the average of the relative errors\n",
        "average_relative_error = np.mean(relative_error)\n",
        "\n",
        "print(\"Average Relative Error:\", average_relative_error)\n"
      ],
      "metadata": {
        "colab": {
          "base_uri": "https://localhost:8080/"
        },
        "id": "ieSbXIWmzcup",
        "outputId": "8ec9d2f1-b1f9-4bab-feda-2c059e6ec455"
      },
      "execution_count": 168,
      "outputs": [
        {
          "output_type": "stream",
          "name": "stdout",
          "text": [
            "Average Relative Error: 0.15238161212639564\n"
          ]
        }
      ]
    }
  ]
}