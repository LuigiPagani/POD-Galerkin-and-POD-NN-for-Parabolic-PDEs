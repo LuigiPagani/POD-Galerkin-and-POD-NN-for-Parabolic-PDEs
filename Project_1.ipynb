{
  "nbformat": 4,
  "nbformat_minor": 0,
  "metadata": {
    "colab": {
      "provenance": [],
      "toc_visible": true,
      "authorship_tag": "ABX9TyNJ8o0MkMfSMEMM6uxCrfvj",
      "include_colab_link": true
    },
    "kernelspec": {
      "name": "python3",
      "display_name": "Python 3"
    },
    "language_info": {
      "name": "python"
    }
  },
  "cells": [
    {
      "cell_type": "markdown",
      "metadata": {
        "id": "view-in-github",
        "colab_type": "text"
      },
      "source": [
        "<a href=\"https://colab.research.google.com/github/LuigiPagani/ROM-with-POD-and-DL/blob/main/Project_1.ipynb\" target=\"_parent\"><img src=\"https://colab.research.google.com/assets/colab-badge.svg\" alt=\"Open In Colab\"/></a>"
      ]
    },
    {
      "cell_type": "code",
      "execution_count": 1,
      "metadata": {
        "id": "ZR7pnH5RdYP-",
        "colab": {
          "base_uri": "https://localhost:8080/"
        },
        "outputId": "bfde2521-a596-4f49-f080-ebd07de8b373"
      },
      "outputs": [
        {
          "output_type": "stream",
          "name": "stdout",
          "text": [
            "Collecting pyDOE\n",
            "  Downloading pyDOE-0.3.8.zip (22 kB)\n",
            "  Preparing metadata (setup.py) ... \u001b[?25l\u001b[?25hdone\n",
            "Requirement already satisfied: numpy in /usr/local/lib/python3.10/dist-packages (from pyDOE) (1.25.2)\n",
            "Requirement already satisfied: scipy in /usr/local/lib/python3.10/dist-packages (from pyDOE) (1.11.4)\n",
            "Building wheels for collected packages: pyDOE\n",
            "  Building wheel for pyDOE (setup.py) ... \u001b[?25l\u001b[?25hdone\n",
            "  Created wheel for pyDOE: filename=pyDOE-0.3.8-py3-none-any.whl size=18168 sha256=fcf0ca7370faa7baa5d8dd172575be6582689de5ccb6184b65e4b9890b96aaf5\n",
            "  Stored in directory: /root/.cache/pip/wheels/ce/b6/d7/c6b64746dba6433c593e471e0ac3acf4f36040456d1d160d17\n",
            "Successfully built pyDOE\n",
            "Installing collected packages: pyDOE\n",
            "Successfully installed pyDOE-0.3.8\n"
          ]
        }
      ],
      "source": [
        "try:\n",
        "     from dlroms import*\n",
        "except:\n",
        "     !pip install git+https://github.com/NicolaRFranco/dlroms.git\n",
        "     from dlroms import*\n",
        "!pip install pyDOE\n",
        "\n"
      ]
    },
    {
      "cell_type": "markdown",
      "source": [
        "**Preliminaries**"
      ],
      "metadata": {
        "id": "Ld5u_Did5Yeb"
      }
    },
    {
      "cell_type": "code",
      "source": [
        "import numpy as np\n",
        "from fenics import *\n",
        "from pyDOE import lhs\n",
        "from scipy.sparse.linalg import spsolve\n",
        "import dlroms.fespaces as fe\n",
        "import numpy as np\n",
        "from scipy.sparse.linalg import spsolve\n",
        "from scipy.sparse import csr_matrix\n",
        "from convdiff import Stokes_solver\n",
        "import scipy.sparse as sp\n",
        "from scipy.sparse.linalg import spsolve\n",
        "\n",
        "mesh = fe.unitsquaremesh(30, 30)\n",
        "Vh = fe.space(mesh, 'CG', 1) # FE space for u (chemical concentration)\n",
        "bspace = fe.space(mesh, \"CG\", 1, scalar = False, bubble = True) # FE space for b (transport field)\n",
        "\n",
        "def Convdiff_solver(w1, w2, steps = 50, dt = 5e-4):\n",
        "    # Assembling relevant operators\n",
        "    v1, v2 = TrialFunction(Vh), TestFunction(Vh)\n",
        "    M = sp.csr_matrix(assemble(v1*v2*dx).array()) # mass matrix\n",
        "    S = sp.csr_matrix(assemble(inner(grad(v1), grad(v2))*dx).array()) # stiffness (diffusion) matrix\n",
        "\n",
        "    b = Stokes_solver(w1, w2)\n",
        "    b1 = Stokes_solver(1,0)\n",
        "    b2 = Stokes_solver(0,1)\n",
        "    bf = fe.asvector(b, bspace)\n",
        "    bf1 = fe.asvector(b1, bspace)\n",
        "    bf2 = fe.asvector(b2, bspace)\n",
        "\n",
        "    B = sp.csr_matrix(assemble(inner(bf, grad(v1))*v2*dx).array()) # transport matrix\n",
        "    B1 = sp.csr_matrix(assemble(inner(bf1, grad(v1))*v2*dx).array())\n",
        "    B2 = sp.csr_matrix(assemble(inner(bf2, grad(v1))*v2*dx).array())\n",
        "\n",
        "    # Time-stepping scheme\n",
        "    def FOMstep(u0, dt, b):\n",
        "        A = M + dt*S + 1000*dt*B\n",
        "        F = M @ u0\n",
        "        return spsolve(A, F)\n",
        "\n",
        "    # Initial condition\n",
        "    x, y = fe.coordinates(Vh).T\n",
        "    u0 = np.exp(-16*(x-0.5)**2 -16*(y-0.5)**2)\n",
        "\n",
        "    # Initialize storage for solution as a NumPy array\n",
        "    u = np.empty((len(u0), steps + 1))\n",
        "    u[:, 0] = u0\n",
        "\n",
        "    # Time loop\n",
        "    for n in range(steps):\n",
        "        u[:, n + 1] = FOMstep(u[:, n], dt, b)\n",
        "\n",
        "    return u, M, S, B, B1, B2\n",
        "\n",
        "\n",
        "# Define the parameter space\n",
        "n_samples = 10  # Reduced number of samples\n",
        "parameter_ranges = [np.linspace(0, 30, 100), np.linspace(0, 30, 100)]  # Define parameter ranges\n",
        "\n",
        "# Generate Latin Hypercube Samples\n",
        "lhs_samples = lhs(2, samples=n_samples, criterion='center')  # 2 for two parameters, criterion 'center' for centered samples\n",
        "params = np.array([parameter_ranges[0][((lhs_samples[:, i] * 99).astype(int))] for i in range(2)]).T\n",
        "\n",
        "# Generate snapshots\n",
        "snapshots = []  # Initialize an empty list to store matrices\n",
        "for w1, w2 in params:\n",
        "    u, M, S, B,B1,B2 = Convdiff_solver(w1, w2)  # Get the time series data and matrices from the solver\n",
        "    u = u.reshape(961, -1)  # Reshape u to have consistent dimensions\n",
        "    if len(snapshots) == 0:\n",
        "        snapshots = u  # If snapshots is empty, initialize it with the first u\n",
        "    else:\n",
        "        snapshots = np.hstack((snapshots, u))  # Stack u horizontally with the existing snapshots\n",
        "\n",
        "\n"
      ],
      "metadata": {
        "id": "zO0Tl5IZ1iEl"
      },
      "execution_count": 112,
      "outputs": []
    },
    {
      "cell_type": "markdown",
      "source": [
        "**Matrix Assembly**"
      ],
      "metadata": {
        "id": "pX5lKM4X5caS"
      }
    },
    {
      "cell_type": "code",
      "source": [
        "from scipy.linalg import svd\n",
        "\n",
        "U, s, Vt = svd(snapshots, full_matrices=False)\n",
        "\n",
        "\n",
        "# Now you can apply SVD or any other analysis you wish to this giant matrix\n",
        "from scipy.linalg import svd\n",
        "U, s, Vt = svd(snapshots, full_matrices=False)\n",
        "\n",
        "energy = np.cumsum(s**2) / np.sum(s**2)\n",
        "\n",
        "# Determine number of modes to retain 99% of energy\n",
        "n_modes = np.searchsorted(energy, 0.999999) + 1\n",
        "\n",
        "V = U[:, :n_modes]\n",
        "\n",
        "\n",
        "\n",
        "mesh = fe.unitsquaremesh(30, 30)\n",
        "Vh = fe.space(mesh, 'CG', 1) # FE space for u (chemical concentration)\n",
        "bspace = fe.space(mesh, \"CG\", 1, scalar = False, bubble = True) # FE space for b (transport field)\n",
        "\n",
        "from scipy.sparse import csr_matrix\n",
        "\n",
        "# Assuming we have a function to assemble FOM matrices\n",
        "w1 = 1\n",
        "w2 = 2\n",
        "u, M_fom, S_fom, B_fom,B1_fom,B2_fom = Convdiff_solver(w1, w2, steps = 50, dt = 5e-4)\n",
        "\n",
        "M_rb = V.T @ M_fom @ V\n",
        "S_rb = V.T @ S_fom @ V\n",
        "B_rb = V.T @ B_fom @ V\n",
        "B1_rb = V.T @ B1_fom @ V\n",
        "B2_rb = V.T @ B2_fom @ V\n",
        "\n",
        "# Calculate the linear combination of B1 and B2 using the given weights\n",
        "B_combined_fom = w1 * B1_fom + w2 * B2_fom\n",
        "\n",
        "# Compute the difference between B_fom and the weighted linear combination\n",
        "difference_fom = B_fom - B_combined_fom\n",
        "print(V.shape)\n",
        "\n",
        "\n"
      ],
      "metadata": {
        "colab": {
          "base_uri": "https://localhost:8080/"
        },
        "id": "FC7OUofh5J6T",
        "outputId": "748ff092-61fc-4f40-b86d-a26240f9022e"
      },
      "execution_count": 113,
      "outputs": [
        {
          "output_type": "stream",
          "name": "stdout",
          "text": [
            "(961, 49)\n"
          ]
        }
      ]
    },
    {
      "cell_type": "code",
      "source": [
        "print(s)"
      ],
      "metadata": {
        "colab": {
          "base_uri": "https://localhost:8080/"
        },
        "id": "gB7igigT6qTr",
        "outputId": "bf9dbf1c-0d86-4db4-8f94-67fd57ad8b43"
      },
      "execution_count": 108,
      "outputs": [
        {
          "output_type": "stream",
          "name": "stdout",
          "text": [
            "[1.46435235e+02 4.63712841e+01 3.21702309e+01 2.64790911e+01\n",
            " 1.11966278e+01 1.02081124e+01 7.87057845e+00 6.07281150e+00\n",
            " 4.54761802e+00 3.39895466e+00 3.31275873e+00 2.50103348e+00\n",
            " 2.42106003e+00 2.07318654e+00 1.81479267e+00 1.41203777e+00\n",
            " 1.17045129e+00 9.68678271e-01 7.70352605e-01 6.86766401e-01\n",
            " 5.91176882e-01 5.33049675e-01 4.84519279e-01 3.87568061e-01\n",
            " 3.26351802e-01 3.15746743e-01 2.50572097e-01 2.30551071e-01\n",
            " 2.20551902e-01 1.97336004e-01 1.77914920e-01 1.53168367e-01\n",
            " 1.46729478e-01 1.19353724e-01 1.03485912e-01 9.28738195e-02\n",
            " 8.57750149e-02 8.02739169e-02 6.66450187e-02 6.07229744e-02\n",
            " 5.11863637e-02 4.61878634e-02 4.25187930e-02 4.00707190e-02\n",
            " 3.51123183e-02 3.08478566e-02 2.86481034e-02 2.42834632e-02\n",
            " 2.26675768e-02 2.13294583e-02 1.78432182e-02 1.62662857e-02\n",
            " 1.51946210e-02 1.22521311e-02 1.13103565e-02 1.12245770e-02\n",
            " 8.97959216e-03 8.35557514e-03 7.44320766e-03 6.50502254e-03\n",
            " 6.37906885e-03 5.02388085e-03 4.98376434e-03 3.64119438e-03\n",
            " 3.40300488e-03 3.13162017e-03 2.92017159e-03 2.57989077e-03\n",
            " 2.20935731e-03 2.19336342e-03 1.83401906e-03 1.44436336e-03\n",
            " 1.22185960e-03 1.21267014e-03 1.04813470e-03 9.31107849e-04\n",
            " 8.48931384e-04 7.66737850e-04 7.02171294e-04 6.13773048e-04\n",
            " 5.99320184e-04 4.43731225e-04 3.80833717e-04 3.67495382e-04\n",
            " 3.33787854e-04 3.03344386e-04 2.76281437e-04 2.50558285e-04\n",
            " 2.28983504e-04 1.92732693e-04 1.68779410e-04 1.52936875e-04\n",
            " 1.35060708e-04 1.18943653e-04 1.13944120e-04 9.39638530e-05\n",
            " 8.78122875e-05 8.31983540e-05 7.43291580e-05 6.64994726e-05\n",
            " 5.21902077e-05 4.66155585e-05 3.92996504e-05 3.65501165e-05\n",
            " 3.22584051e-05 2.95300016e-05 2.70108869e-05 2.13560377e-05\n",
            " 2.00649835e-05 1.85668490e-05 1.46182548e-05 1.37110773e-05\n",
            " 1.18750738e-05 1.04214367e-05 9.10818855e-06 8.55065500e-06\n",
            " 6.97851756e-06 6.68664567e-06 5.49749810e-06 4.76257504e-06\n",
            " 4.46500364e-06 4.13023561e-06 3.19617352e-06 2.95933180e-06\n",
            " 2.52770797e-06 2.33430495e-06 2.20377299e-06 1.82733253e-06\n",
            " 1.68034502e-06 1.39303052e-06 1.21158095e-06 1.04960770e-06\n",
            " 1.00312290e-06 8.66132093e-07 7.75283079e-07 6.77611366e-07\n",
            " 6.13572633e-07 5.34785108e-07 4.77631077e-07 3.84728677e-07\n",
            " 3.47335014e-07 2.78332732e-07 2.59730969e-07 2.32034435e-07\n",
            " 2.03191885e-07 1.89986800e-07 1.65620644e-07 1.47394995e-07\n",
            " 1.19543010e-07 9.86357548e-08 8.62351842e-08 7.18654087e-08\n",
            " 6.69275997e-08 6.44042235e-08 5.47674329e-08 4.55957106e-08\n",
            " 4.30207410e-08 3.21609904e-08 2.96535584e-08 2.69547209e-08\n",
            " 2.26645086e-08 1.83529178e-08 1.73021039e-08 1.49570763e-08\n",
            " 1.31440592e-08 1.26944070e-08 1.02035212e-08 8.05128662e-09\n",
            " 6.94391800e-09 6.81282006e-09 6.12969863e-09 5.06104623e-09\n",
            " 3.84783927e-09 3.32384801e-09 3.27371014e-09 2.87190455e-09\n",
            " 2.48375702e-09 2.26385014e-09 1.76778853e-09 1.68268332e-09\n",
            " 1.44701989e-09 1.22887096e-09 1.14777555e-09 1.05736824e-09\n",
            " 8.59276224e-10 7.29708301e-10 5.43424563e-10 4.98556953e-10\n",
            " 4.31986852e-10 3.94513610e-10 3.68459767e-10 2.96853504e-10\n",
            " 2.44353420e-10 2.18192668e-10 2.02234249e-10 1.50535360e-10\n",
            " 1.40064113e-10 1.14648111e-10 1.08841236e-10 8.62030431e-11\n",
            " 7.68010441e-11 6.40795429e-11 5.52035160e-11 4.28362845e-11\n",
            " 4.12289540e-11 3.56277879e-11 3.17866595e-11 2.66898902e-11\n",
            " 2.47028035e-11 2.17890829e-11 1.53366958e-11 1.42850233e-11\n",
            " 1.06477294e-11 9.53689829e-12 8.49002373e-12 7.88481000e-12\n",
            " 7.24113539e-12 7.06989408e-12 5.87548589e-12 4.65508598e-12\n",
            " 3.34777336e-12 3.18616908e-12 2.19911499e-12 2.04181814e-12\n",
            " 1.78679030e-12 1.53783552e-12 1.45663950e-12 1.35128921e-12\n",
            " 1.16351124e-12 9.84696226e-13 7.38080315e-13 5.66635883e-13\n",
            " 5.02853740e-13 4.46413431e-13 3.41696823e-13 3.03898766e-13\n",
            " 2.43807277e-13 2.29101986e-13 2.23559383e-13 1.75382403e-13\n",
            " 1.21629330e-13 1.09614627e-13 8.62546317e-14 7.34286151e-14\n",
            " 6.79213466e-14 6.12185439e-14 5.52224722e-14 4.95245492e-14\n",
            " 3.78751017e-14 2.99757642e-14 2.58400412e-14 2.19473064e-14\n",
            " 2.09040798e-14 1.64335358e-14 1.21056921e-14 1.21056921e-14\n",
            " 1.21056921e-14 1.21056921e-14 1.21056921e-14 1.21056921e-14\n",
            " 1.21056921e-14 1.21056921e-14 1.21056921e-14 1.21056921e-14\n",
            " 1.21056921e-14 1.21056921e-14 1.21056921e-14 1.21056921e-14\n",
            " 1.21056921e-14 1.21056921e-14 1.21056921e-14 1.21056921e-14\n",
            " 1.21056921e-14 1.21056921e-14 1.21056921e-14 1.21056921e-14\n",
            " 1.21056921e-14 1.21056921e-14 1.21056921e-14 1.21056921e-14\n",
            " 1.21056921e-14 1.21056921e-14 1.21056921e-14 1.21056921e-14\n",
            " 1.21056921e-14 1.21056921e-14 1.21056921e-14 1.21056921e-14\n",
            " 1.21056921e-14 1.21056921e-14 1.21056921e-14 1.21056921e-14\n",
            " 1.21056921e-14 1.21056921e-14 1.21056921e-14 1.21056921e-14\n",
            " 1.21056921e-14 1.21056921e-14 1.21056921e-14 1.21056921e-14\n",
            " 1.21056921e-14 1.21056921e-14 1.21056921e-14 1.21056921e-14\n",
            " 1.21056921e-14 1.21056921e-14 1.21056921e-14 1.21056921e-14\n",
            " 1.21056921e-14 1.21056921e-14 1.21056921e-14 1.21056921e-14\n",
            " 1.21056921e-14 1.21056921e-14 1.21056921e-14 1.21056921e-14\n",
            " 1.21056921e-14 1.21056921e-14 1.21056921e-14 1.21056921e-14\n",
            " 1.21056921e-14 1.21056921e-14 1.21056921e-14 1.21056921e-14\n",
            " 1.21056921e-14 1.21056921e-14 1.21056921e-14 1.21056921e-14\n",
            " 1.21056921e-14 1.21056921e-14 1.21056921e-14 1.21056921e-14\n",
            " 1.21056921e-14 1.21056921e-14 1.21056921e-14 1.21056921e-14\n",
            " 1.21056921e-14 1.21056921e-14 1.21056921e-14 1.21056921e-14\n",
            " 1.21056921e-14 1.21056921e-14 1.21056921e-14 1.21056921e-14\n",
            " 1.21056921e-14 1.21056921e-14 1.21056921e-14 1.21056921e-14\n",
            " 1.21056921e-14 1.21056921e-14 1.21056921e-14 1.21056921e-14\n",
            " 1.21056921e-14 1.21056921e-14 1.21056921e-14 1.21056921e-14\n",
            " 1.21056921e-14 1.21056921e-14 1.21056921e-14 1.21056921e-14\n",
            " 1.21056921e-14 1.21056921e-14 1.21056921e-14 1.21056921e-14\n",
            " 1.21056921e-14 1.21056921e-14 1.21056921e-14 1.21056921e-14\n",
            " 1.21056921e-14 1.21056921e-14 1.21056921e-14 1.21056921e-14\n",
            " 1.21056921e-14 1.21056921e-14 1.21056921e-14 1.21056921e-14\n",
            " 1.21056921e-14 1.21056921e-14 1.21056921e-14 1.21056921e-14\n",
            " 1.21056921e-14 1.21056921e-14 1.21056921e-14 1.21056921e-14\n",
            " 1.21056921e-14 1.21056921e-14 1.21056921e-14 1.21056921e-14\n",
            " 1.21056921e-14 1.21056921e-14 1.21056921e-14 1.21056921e-14\n",
            " 1.21056921e-14 1.21056921e-14 1.21056921e-14 1.21056921e-14\n",
            " 1.21056921e-14 1.21056921e-14 1.21056921e-14 1.21056921e-14\n",
            " 1.21056921e-14 1.21056921e-14 1.21056921e-14 1.21056921e-14\n",
            " 1.21056921e-14 1.21056921e-14 1.21056921e-14 1.21056921e-14\n",
            " 1.21056921e-14 1.21056921e-14 1.21056921e-14 1.21056921e-14\n",
            " 1.21056921e-14 1.21056921e-14 1.21056921e-14 1.21056921e-14\n",
            " 1.21056921e-14 1.21056921e-14 1.21056921e-14 1.21056921e-14\n",
            " 1.21056921e-14 1.21056921e-14 1.21056921e-14 1.21056921e-14\n",
            " 1.21056921e-14 1.21056921e-14 1.21056921e-14 1.21056921e-14\n",
            " 1.21056921e-14 1.21056921e-14 1.21056921e-14 1.21056921e-14\n",
            " 1.21056921e-14 1.21056921e-14 1.21056921e-14 1.21056921e-14\n",
            " 1.21056921e-14 1.21056921e-14 1.21056921e-14 1.21056921e-14\n",
            " 1.21056921e-14 1.21056921e-14 1.21056921e-14 1.21056921e-14\n",
            " 1.21056921e-14 1.21056921e-14 1.21056921e-14 1.21056921e-14\n",
            " 1.21056921e-14 1.21056921e-14 1.21056921e-14 1.21056921e-14\n",
            " 1.21056921e-14 1.21056921e-14 1.21056921e-14 1.21056921e-14\n",
            " 1.21056921e-14 1.21056921e-14 1.21056921e-14 1.21056921e-14\n",
            " 1.21056921e-14 1.21056921e-14 1.21056921e-14 1.21056921e-14\n",
            " 1.21056921e-14 1.21056921e-14 1.21056921e-14 1.21056921e-14\n",
            " 1.21056921e-14 1.21056921e-14 1.21056921e-14 1.21056921e-14\n",
            " 1.21056921e-14 1.21056921e-14 1.21056921e-14 1.21056921e-14\n",
            " 1.21056921e-14 1.21056921e-14 1.21056921e-14 1.21056921e-14\n",
            " 1.21056921e-14 1.21056921e-14 1.21056921e-14 1.21056921e-14\n",
            " 1.21056921e-14 1.21056921e-14 1.21056921e-14 1.21056921e-14\n",
            " 1.21056921e-14 1.21056921e-14 1.21056921e-14 1.21056921e-14\n",
            " 1.21056921e-14 1.21056921e-14 1.21056921e-14 1.21056921e-14\n",
            " 1.21056921e-14 1.21056921e-14 1.21056921e-14 1.21056921e-14\n",
            " 1.21056921e-14 1.21056921e-14 1.21056921e-14 1.21056921e-14\n",
            " 1.21056921e-14 1.10250230e-14 8.50467311e-15 6.97371595e-15\n",
            " 5.27327978e-15 2.50268309e-15]\n"
          ]
        }
      ]
    },
    {
      "cell_type": "markdown",
      "source": [
        "**Time Stepping**\n",
        "Fixes Pending\n"
      ],
      "metadata": {
        "id": "7meAckYj5gfN"
      }
    },
    {
      "cell_type": "code",
      "source": [
        "\n",
        "def RBstep(u_rb, dt):\n",
        "    # Assuming M_rb, S_rb, B1_rb, B2_rb, w1, w2 are defined elsewhere and are numpy arrays\n",
        "    A_rb = M_rb + dt * S_rb + 1000 * dt * (w1 * B1_rb + w2 * B2_rb)\n",
        "    F_rb = M_rb @ u_rb\n",
        "    return np.linalg.solve(A_rb, F_rb)\n",
        "\n",
        "# Assuming 'V' is the matrix containing the left singular vectors (reduced basis vectors)\n",
        "# and 'u' contains the simulation snapshots from the Full Order Model (FOM).\n",
        "\n",
        "u0_rb = V.T @ u[:,0]  # Project the initial condition onto the reduced basis\n",
        "\n",
        "# Number of time steps based on final time T and time step dt\n",
        "T_final = 0.025\n",
        "dt = 5e-4\n",
        "n_steps = int(T_final / dt)\n",
        "\n",
        "# Initialize storage for RB solution as a NumPy array\n",
        "u_rb = np.zeros((V.shape[1], n_steps + 1))  # V.shape[1] is the number of reduced basis vectors\n",
        "u_rb[:, 0] = u0_rb\n",
        "\n",
        "# Time-stepping loop for the RB method\n",
        "for n in range(n_steps):\n",
        "    u_rb[:, n + 1] = RBstep(u_rb[:, n], dt)\n",
        "\n",
        "# Optionally, convert back to full space for visualization or further analysis\n",
        "u_rb_full = V @ u_rb  # This results in each column representing the solution at a time step\n",
        "\n",
        "# If you need to transpose for further processing:"
      ],
      "metadata": {
        "id": "wflxIa1llF3H"
      },
      "execution_count": 114,
      "outputs": []
    },
    {
      "cell_type": "code",
      "source": [
        "print(V.shape,u_rb.shape, u_rb_full.shape,u.shape)"
      ],
      "metadata": {
        "colab": {
          "base_uri": "https://localhost:8080/"
        },
        "id": "UxxhTCyI16oC",
        "outputId": "41b4e302-0227-4aa0-a1b9-2dd45645ab38"
      },
      "execution_count": 110,
      "outputs": [
        {
          "output_type": "stream",
          "name": "stdout",
          "text": [
            "(961, 38) (38, 51) (961, 51) (961, 51)\n"
          ]
        }
      ]
    },
    {
      "cell_type": "markdown",
      "source": [
        "**Error Calculation**"
      ],
      "metadata": {
        "id": "dCyrrz4t0QKC"
      }
    },
    {
      "cell_type": "code",
      "source": [
        "\n",
        "# Assuming 'u' is the original full matrix, and 'u_rb_full' is the reconstructed matrix after reduction and back-projection\n",
        "\n",
        "error_vector = u - u_rb_full\n",
        "\n",
        "# Calculate the norm of the difference (numerator of the relative error)\n",
        "error_norm = np.linalg.norm(error_vector, axis=0)  # Since we transposed, use axis=0 to operate along columns\n",
        "\n",
        "# Calculate the norm of the original vector (denominator of the relative error)\n",
        "u_norm = np.linalg.norm(u, axis=0)  # Norm of each column in the original matrix\n",
        "\n",
        "# Calculate the relative error for each column\n",
        "relative_error = error_norm / u_norm\n",
        "\n",
        "# Calculate the average of the relative errors\n",
        "average_relative_error = np.mean(relative_error)\n",
        "\n",
        "print(\"Average Relative Error:\", average_relative_error)\n"
      ],
      "metadata": {
        "colab": {
          "base_uri": "https://localhost:8080/"
        },
        "id": "ieSbXIWmzcup",
        "outputId": "3876f6a9-8356-4b82-9ec0-e741f7a83af4"
      },
      "execution_count": 115,
      "outputs": [
        {
          "output_type": "stream",
          "name": "stdout",
          "text": [
            "Average Relative Error: 0.05389834704491816\n"
          ]
        }
      ]
    }
  ]
}