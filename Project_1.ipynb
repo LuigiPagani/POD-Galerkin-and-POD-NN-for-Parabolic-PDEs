{
  "nbformat": 4,
  "nbformat_minor": 0,
  "metadata": {
    "colab": {
      "provenance": []
    },
    "kernelspec": {
      "name": "python3",
      "display_name": "Python 3"
    },
    "language_info": {
      "name": "python"
    }
  },
  "cells": [
    {
      "cell_type": "markdown",
      "metadata": {
        "id": "view-in-github"
      },
      "source": [
        "<a href=\"https://colab.research.google.com/github/LuigiPagani/ROM-with-POD-and-DL/blob/main/Project_1.ipynb\" target=\"_parent\"><img src=\"https://colab.research.google.com/assets/colab-badge.svg\" alt=\"Open In Colab\"/></a>"
      ]
    },
    {
      "cell_type": "markdown",
      "source": [
        "\n",
        "### Original Systems\n",
        "1. **Stokes' Equations:**\n",
        "   The velocity $b$ and pressure $p$ of the water satisfy:\n",
        "   $$\n",
        "   \\begin{cases}\n",
        "   -\\Delta b - \\nabla p = w_1 f_1 + w_2 f_2 & \\text{in } \\Omega \\\\\n",
        "   \\nabla \\cdot b = 0 & \\text{in } \\Omega \\\\\n",
        "   b = 0 & \\text{on } \\partial \\Omega\n",
        "   \\end{cases}\n",
        "   $$\n",
        "   Here, $f_1$ and $f_2$ represent the influence of two water turbines, and $w_1$ and $w_2$ are their respective strengths.\n",
        "\n",
        "2. **Convection-Diffusion Equation:**\n",
        "   The pollutant concentration $u$ satisfies:\n",
        "   $$\n",
        "   \\begin{cases}\n",
        "   -\\Delta u + b \\cdot \\nabla u = 0 & \\text{in } \\Omega \\times (0, T) \\\\\n",
        "   -\\nabla u \\cdot n = 0 & \\text{on } \\partial \\Omega \\times (0, T) \\\\\n",
        "   u(\\cdot, 0) = u_0 & \\text{in } \\Omega\n",
        "   \\end{cases}\n",
        "   $$\n",
        "\n",
        "### Deduction of the Modified Equation\n",
        "Given that $b_1$ and $b_2$ solve the Stokes' equation with $w_1 = 1, w_2 = 0$ and $w_1 = 0, w_2 = 1$ respectively, we can write the general solution $b$ as a linear combination of these basis solutions:\n",
        "$$\n",
        "b = w_1 b_1 + w_2 b_2\n",
        "$$\n",
        "where $b_1$ and $b_2$ are solutions to the Stokes' equations under the specified conditions.\n",
        "\n",
        "Inserting this expression for $b$ into the convection-diffusion equation gives:\n",
        "\\[\n",
        "-\\Delta u + (w_1 b_1 + w_2 b_2) \\cdot \\nabla u = 0 \\quad \\text{in } \\Omega \\times (0, T)\n",
        "\\]\n",
        "This simplifies to:\n",
        "$$\n",
        "\\begin{cases}\n",
        "-\\Delta u + w_1 b_1 + w_2 b_2 \\cdot \\nabla u = 0 & \\text{in } \\Omega \\times (0, T) \\\\\n",
        "-\\nabla u \\cdot n = 0 & \\text{on } \\partial \\Omega \\times (0, T) \\\\\n",
        "u(\\cdot, 0) = u_0 & \\text{in } \\Omega\n",
        "\\end{cases}\n",
        "$$\n",
        "Thus, the equation (4) is derived, which allows us to focus solely on the convection-diffusion system by using the precomputed velocity fields $b_1$ and $b_1$ for the different strengths $w_1$ and $w_2$ of the turbines.\n",
        "\n",
        "In practice, this approach simplifies the computational effort by decoupling the computation of the water's velocity and pressure fields from the pollutant's concentration simulation. Once $b_1$ and $b_2$ are computed, they can be scaled and summed according to $w_1$ and $w_2$ for any scenario, which can significantly reduce computational costs when simulating multiple scenarios with different turbine strengths."
      ],
      "metadata": {
        "id": "5ZWp3abWysAO"
      }
    },
    {
      "cell_type": "markdown",
      "source": [
        "### Equations:\n",
        "The Stokes' equations are given by:\n",
        "$$\n",
        "-\\Delta b - \\nabla p = f\n",
        "$$\n",
        "$$\n",
        "\\nabla \\cdot b = 0\n",
        "$$\n",
        "where $ f $ represents external forces (in this case, the forces due to the turbines).\n",
        "\n",
        "### Solving with Specific Turbine Strengths:\n",
        "1. **When $ w_1 = 1, w_2 = 0 $**:\n",
        "   - The force term $ f $ in Stokes' equations becomes $ f_1 $.\n",
        "   - Let $ b_1 $ and $ p_1 $ be the solutions, i.e.,:\n",
        "     \\begin{align*}\n",
        "     -\\Delta b_1 - \\nabla p_1 = f_1\n",
        "     \\end{align*}\n",
        "     \\begin{align*}\n",
        "     \\nabla \\cdot b_1 = 0\n",
        "     \\end{align*}\n",
        "\n",
        "\n",
        "\n",
        "\n",
        "2. **When $ w_1 = 0, w_2 = 1 $**:\n",
        "   - The force term $ f $ now becomes $ f_2 $.\n",
        "   - Let $ b_2 $ and $ p_2 $ be the solutions, i.e.,:\n",
        "     \\begin{align*}\n",
        "     -\\Delta b_2 - \\nabla p_2 = f_2\n",
        "     \\end{align*}\n",
        "     \\begin{align*}\n",
        "     \\nabla \\cdot b_2 = 0\n",
        "     \\end{align*}\n",
        "\n",
        "### Principle of Superposition:\n",
        "Due to the linearity of the Stokes' equations, if $ b_1 $ and $ b_2 $ are solutions under the respective forces $ f_1 $ and $ f_2 $, any linear combination of these solutions is also a solution for a linear combination of the forces. Specifically:\n",
        "$$\n",
        "b = w_1 b_1 + w_2 b_2\n",
        "$$\n",
        "\n",
        "$$\n",
        "-\\Delta b - \\nabla p = w_1 f_1 + w_2 f_2\n",
        "$$\n",
        "$$\n",
        "\\nabla \\cdot b = 0\n",
        "$$\n",
        "Here, $ w_1 $ and $ w_2 $ act as scaling factors corresponding to the strength of each turbine's influence. This formulation essentially constructs the fluid flow's velocity field as a weighted sum of the two independent velocity fields induced by each turbine separately.\n"
      ],
      "metadata": {
        "id": "yAY_guO8zw5W"
      }
    },
    {
      "cell_type": "markdown",
      "source": [
        "**Installation**"
      ],
      "metadata": {
        "id": "-7UxNXFh7ms-"
      }
    },
    {
      "cell_type": "code",
      "execution_count": 1,
      "metadata": {
        "id": "ZR7pnH5RdYP-",
        "colab": {
          "base_uri": "https://localhost:8080/"
        },
        "outputId": "283006cd-25c3-44d8-9b40-d719675dff93"
      },
      "outputs": [
        {
          "output_type": "stream",
          "name": "stdout",
          "text": [
            "Collecting pyDOE\n",
            "  Downloading pyDOE-0.3.8.zip (22 kB)\n",
            "  Preparing metadata (setup.py) ... \u001b[?25l\u001b[?25hdone\n",
            "Requirement already satisfied: numpy in /usr/local/lib/python3.10/dist-packages (from pyDOE) (1.25.2)\n",
            "Requirement already satisfied: scipy in /usr/local/lib/python3.10/dist-packages (from pyDOE) (1.11.4)\n",
            "Building wheels for collected packages: pyDOE\n",
            "  Building wheel for pyDOE (setup.py) ... \u001b[?25l\u001b[?25hdone\n",
            "  Created wheel for pyDOE: filename=pyDOE-0.3.8-py3-none-any.whl size=18168 sha256=1a43e17865fabce6e423db0e787b6487a980329c7dfc390f63e5d23b41f9cb84\n",
            "  Stored in directory: /root/.cache/pip/wheels/ce/b6/d7/c6b64746dba6433c593e471e0ac3acf4f36040456d1d160d17\n",
            "Successfully built pyDOE\n",
            "Installing collected packages: pyDOE\n",
            "Successfully installed pyDOE-0.3.8\n"
          ]
        }
      ],
      "source": [
        "try:\n",
        "     from dlroms import*\n",
        "except:\n",
        "     !pip install git+https://github.com/NicolaRFranco/dlroms.git\n",
        "     from dlroms import*\n",
        "!pip install pyDOE\n",
        "\n"
      ]
    },
    {
      "cell_type": "markdown",
      "source": [
        "**Preliminaries**"
      ],
      "metadata": {
        "id": "Ld5u_Did5Yeb"
      }
    },
    {
      "cell_type": "code",
      "source": [
        "import numpy as np\n",
        "from fenics import *\n",
        "from pyDOE import lhs\n",
        "from scipy.sparse.linalg import spsolve\n",
        "import dlroms.fespaces as fe\n",
        "import numpy as np\n",
        "from scipy.sparse.linalg import spsolve\n",
        "from scipy.sparse import csr_matrix\n",
        "from convdiff import Stokes_solver\n",
        "import scipy.sparse as sp\n",
        "from scipy.sparse.linalg import spsolve\n",
        "\n",
        "mesh = fe.unitsquaremesh(30, 30)\n",
        "Vh = fe.space(mesh, 'CG', 1) # FE space for u (chemical concentration)\n",
        "bspace = fe.space(mesh, \"CG\", 1, scalar = False, bubble = True) # FE space for b (transport field)\n",
        "\n",
        "def Convdiff_solver(w1, w2, steps = 50, dt = 5e-4):\n",
        "    # Assembling relevant operators\n",
        "    v1, v2 = TrialFunction(Vh), TestFunction(Vh)\n",
        "    M = sp.csr_matrix(assemble(v1*v2*dx).array()) # mass matrix\n",
        "    S = sp.csr_matrix(assemble(inner(grad(v1), grad(v2))*dx).array()) # stiffness (diffusion) matrix\n",
        "\n",
        "    b = Stokes_solver(w1, w2)\n",
        "    b1 = Stokes_solver(1,0)\n",
        "    b2 = Stokes_solver(0,1)\n",
        "    bf = fe.asvector(b, bspace)\n",
        "    bf1 = fe.asvector(b1, bspace)\n",
        "    bf2 = fe.asvector(b2, bspace)\n",
        "\n",
        "    B  = sp.csr_matrix(assemble(inner(bf, grad(v1))*v2*dx).array()) # transport matrix\n",
        "    B1 = sp.csr_matrix(assemble(inner(bf1, grad(v1))*v2*dx).array())\n",
        "    B2 = sp.csr_matrix(assemble(inner(bf2, grad(v1))*v2*dx).array())\n",
        "\n",
        "    # Time-stepping scheme\n",
        "    def FOMstep(u0, dt, b):\n",
        "        A = M + dt*S + dt*B\n",
        "        F = M @ u0\n",
        "        return spsolve(A, F)\n",
        "\n",
        "    # Initial condition\n",
        "    x, y = fe.coordinates(Vh).T\n",
        "    u0 = np.exp(-16*(x-0.5)**2 -16*(y-0.5)**2)\n",
        "\n",
        "    # Initialize storage for solution as a NumPy array\n",
        "    u = np.empty((len(u0), steps + 1))\n",
        "    u[:, 0] = u0\n",
        "\n",
        "    # Time loop\n",
        "    for n in range(steps):\n",
        "        u[:, n + 1] = FOMstep(u[:, n], dt, b)\n",
        "\n",
        "    return u, M, S, B, B1, B2\n",
        "\n",
        "\n",
        "# Define the parameter space\n",
        "n_samples = 50  # Reduced number of samples\n",
        "parameter_ranges = [np.linspace(0, 1000, 1000), np.linspace(0, 1000, 1000)]  # Define parameter ranges\n",
        "\n",
        "# Generate Latin Hypercube Samples\n",
        "lhs_samples = lhs(2, samples=n_samples, criterion='center')  # 2 for two parameters, criterion 'center' for centered samples\n",
        "params = np.array([parameter_ranges[0][((lhs_samples[:, i] * 999).astype(int))] for i in range(2)]).T\n",
        "\n",
        "# Generate snapshots\n",
        "snapshots = []  # Initialize an empty list to store matrices\n",
        "for w1, w2 in params:\n",
        "    u, M, S, B,B1,B2 = Convdiff_solver(w1, w2)  # Get the time series data and matrices from the solver\n",
        "    u = u.reshape(961, -1)  # Reshape u to have consistent dimensions\n",
        "    if len(snapshots) == 0:\n",
        "        snapshots = u  # If snapshots is empty, initialize it with the first u\n",
        "    else:\n",
        "        snapshots = np.hstack((snapshots, u))  # Stack u horizontally with the existing snapshots\n",
        "\n",
        "\n"
      ],
      "metadata": {
        "id": "zO0Tl5IZ1iEl"
      },
      "execution_count": 14,
      "outputs": []
    },
    {
      "cell_type": "code",
      "source": [
        "np.save('/content/snapshots_1000.npy', snapshots)\n"
      ],
      "metadata": {
        "id": "DoBQuEHvJSR0"
      },
      "execution_count": null,
      "outputs": []
    },
    {
      "cell_type": "markdown",
      "source": [
        "**Singular Value Study**"
      ],
      "metadata": {
        "id": "JPY9a7bx7a9v"
      }
    },
    {
      "cell_type": "markdown",
      "source": [
        "**Matrix Assembly**"
      ],
      "metadata": {
        "id": "pX5lKM4X5caS"
      }
    },
    {
      "cell_type": "code",
      "source": [
        "from scipy.linalg import svd\n",
        "import numpy as np\n",
        "from fenics import *\n",
        "from pyDOE import lhs\n",
        "from scipy.sparse.linalg import spsolve\n",
        "import dlroms.fespaces as fe\n",
        "import numpy as np\n",
        "from scipy.sparse.linalg import spsolve\n",
        "from scipy.sparse import csr_matrix\n",
        "from convdiff import Stokes_solver\n",
        "import scipy.sparse as sp\n",
        "from scipy.sparse.linalg import spsolve\n",
        "\n",
        "#snapshots = np.load('/content/snapshots.npy')\n",
        "\n",
        "\n",
        "U, s, Vt = svd(snapshots, full_matrices=False)\n",
        "\n",
        "\n",
        "# Now you can apply SVD or any other analysis you wish to this giant matrix\n",
        "from scipy.linalg import svd\n",
        "U, s, Vt = svd(snapshots, full_matrices=False)\n",
        "\n",
        "energy = np.cumsum(s**2) / np.sum(s**2)\n",
        "\n",
        "# Determine number of modes to retain 99% of energy\n",
        "n_modes = 10\n",
        "\n",
        "V = U[:, :n_modes]\n",
        "\n",
        "import matplotlib.pyplot as plt\n",
        "import numpy as np\n",
        "\n",
        "# Assuming 's' contains your singular values from the SVD\n",
        "singular_values = s[1:60]  # Exclude the largest singular value\n",
        "\n",
        "# Plotting the remaining singular values\n",
        "plt.figure(figsize=(10, 6))\n",
        "plt.plot(singular_values, marker='o')\n",
        "plt.title('Singular Values Excluding the Largest')\n",
        "plt.xlabel('Index')\n",
        "plt.ylabel('Singular Value')\n",
        "plt.grid(True)\n",
        "plt.show()\n",
        "\n",
        "\n",
        "\n",
        "\n",
        "mesh = fe.unitsquaremesh(30, 30)\n",
        "Vh = fe.space(mesh, 'CG', 1) # FE space for u (chemical concentration)\n",
        "bspace = fe.space(mesh, \"CG\", 1, scalar = False, bubble = True) # FE space for b (transport field)\n",
        "\n",
        "from scipy.sparse import csr_matrix\n",
        "\n",
        "# Assuming we have a function to assemble FOM matrices\n",
        "w1 = 5\n",
        "w2 = 5\n",
        "u, M_fom, S_fom, B_fom,B1_fom,B2_fom = Convdiff_solver(w1, w2, steps = 50, dt = 5e-4)\n",
        "\n",
        "M_rb = V.T @ M_fom @ V\n",
        "S_rb = V.T @ S_fom @ V\n",
        "B_rb = V.T @ B_fom @ V\n",
        "B1_rb = V.T @ B1_fom @ V\n",
        "B2_rb = V.T @ B2_fom @ V\n",
        "\n",
        "\n",
        "\n"
      ],
      "metadata": {
        "colab": {
          "base_uri": "https://localhost:8080/",
          "height": 564
        },
        "id": "FC7OUofh5J6T",
        "outputId": "136d4828-01b7-48fb-822c-c80d01c08a48"
      },
      "execution_count": 54,
      "outputs": [
        {
          "output_type": "display_data",
          "data": {
            "text/plain": [
              "<Figure size 1000x600 with 1 Axes>"
            ],
            "image/png": "[encoded data removed]"
          },
          "metadata": {}
        }
      ]
    },
    {
      "cell_type": "markdown",
      "source": [
        "**Time Stepping**\n",
        "\n"
      ],
      "metadata": {
        "id": "7meAckYj5gfN"
      }
    },
    {
      "cell_type": "code",
      "source": [
        "w1 = 900\n",
        "w2 = 100\n",
        "u, M_fom, S_fom, B_fom,B1_fom,B2_fom = Convdiff_solver(w1, w2, steps = 50, dt = 5e-4)\n",
        "\n",
        "def RBstep(u_rb, dt,w1,w2):\n",
        "    # Assuming M_rb, S_rb, B1_rb, B2_rb, w1, w2 are defined elsewhere and are numpy arrays\n",
        "    A_rb = M_rb + dt * S_rb + dt * (w1 * B1_rb + w2 * B2_rb)\n",
        "    F_rb = M_rb @ u_rb\n",
        "    return np.linalg.solve(A_rb, F_rb)\n",
        "\n",
        "# Assuming 'V' is the matrix containing the left singular vectors (reduced basis vectors)\n",
        "# and 'u' contains the simulation snapshots from the Full Order Model (FOM).\n",
        "\n",
        "u0_rb = V.T @ u[:,0]  # Project the initial condition onto the reduced basis\n",
        "\n",
        "# Number of time steps based on final time T and time step dt\n",
        "T_final = 0.025\n",
        "dt = 5e-4\n",
        "n_steps = int(T_final / dt)\n",
        "\n",
        "# Initialize storage for RB solution as a NumPy array\n",
        "u_rb = np.zeros((V.shape[1], n_steps + 1))  # V.shape[1] is the number of reduced basis vectors\n",
        "u_rb[:, 0] = u0_rb\n",
        "\n",
        "# Time-stepping loop for the RB method\n",
        "for n in range(n_steps):\n",
        "    u_rb[:, n + 1] = RBstep(u_rb[:, n], dt,w1,w2)\n",
        "\n",
        "# Optionally, convert back to full space for visualization or further analysis\n",
        "u_rb_full = V @ u_rb  # This results in each column representing the solution at a time step\n",
        "\n",
        "# If you need to transpose for further processing:\n",
        "\n",
        "# Assuming 'u' is the original full matrix, and 'u_rb_full' is the reconstructed matrix after reduction and back-projection\n",
        "\n",
        "error_vector = u - u_rb_full\n",
        "\n",
        "# Calculate the norm of the difference (numerator of the relative error)\n",
        "error_norm = np.linalg.norm(error_vector, axis=0)  # Since we transposed, use axis=0 to operate along columns\n",
        "\n",
        "# Calculate the norm of the original vector (denominator of the relative error)\n",
        "u_norm = np.linalg.norm(u, axis=0)  # Norm of each column in the original matrix\n",
        "\n",
        "# Calculate the relative error for each column\n",
        "relative_error = error_norm / u_norm\n",
        "\n",
        "# Calculate the average of the relative errors\n",
        "average_relative_error = np.mean(relative_error)\n",
        "\n",
        "print(\"Average Relative Error:\", average_relative_error)"
      ],
      "metadata": {
        "id": "wflxIa1llF3H",
        "colab": {
          "base_uri": "https://localhost:8080/"
        },
        "outputId": "2a0d9715-d38f-481b-9001-35ac92d3d707"
      },
      "execution_count": 55,
      "outputs": [
        {
          "output_type": "stream",
          "name": "stdout",
          "text": [
            "Average Relative Error: 0.04837871213625977\n"
          ]
        }
      ]
    },
    {
      "cell_type": "code",
      "source": [
        "u.shape"
      ],
      "metadata": {
        "colab": {
          "base_uri": "https://localhost:8080/"
        },
        "id": "IIMHimudGlEd",
        "outputId": "25e299ab-ace9-4b6a-f87d-d66d0f8f2f19"
      },
      "execution_count": null,
      "outputs": [
        {
          "output_type": "execute_result",
          "data": {
            "text/plain": [
              "(100, 51)"
            ]
          },
          "metadata": {},
          "execution_count": 30
        }
      ]
    },
    {
      "cell_type": "code",
      "source": [
        "import numpy as np\n",
        "import matplotlib.pyplot as plt\n",
        "\n",
        "# Define the problem dimensions and parameters\n",
        "n_tests = 50\n",
        "T_final = 0.025\n",
        "dt = 5e-4\n",
        "n_steps = int(T_final / dt)\n",
        "weights_range = (0, 1000)\n",
        "\n",
        "# Initialize the storage for errors\n",
        "errors = np.zeros((n_tests, n_steps + 1))\n",
        "\n",
        "# Loop over each test case\n",
        "for test in range(n_tests):\n",
        "    # Randomly sample weights w1 and w2\n",
        "    w1 = np.random.uniform(*weights_range)\n",
        "    w2 = np.random.uniform(*weights_range)\n",
        "\n",
        "    # Generate the system matrices for RB using the Convdiff_solver (assuming it's implemented)\n",
        "    u, a, b, c, d,e = Convdiff_solver(w1, w2, steps=50, dt=dt)\n",
        "\n",
        "    # Initial condition projection\n",
        "    u0_rb = V.T @ u[:,0]\n",
        "\n",
        "    # Initialize storage for RB solution\n",
        "    u_rb[:, 0] = u0_rb\n",
        "\n",
        "    # Time-stepping loop for the RB method\n",
        "    for n in range(n_steps):\n",
        "        u_rb[:, n + 1] = RBstep(u_rb[:, n], dt, w1, w2)\n",
        "\n",
        "    # Convert back to full space and compute error\n",
        "    u_rb_full = V @ u_rb\n",
        "    error_vector = u - u_rb_full\n",
        "    error_norm = np.linalg.norm(error_vector, axis=0)\n",
        "    u_norm = np.linalg.norm(u, axis=0)\n",
        "    relative_error = error_norm / u_norm\n",
        "\n",
        "    # Store the error for this test\n",
        "    errors[test, :] = relative_error\n",
        "\n",
        "# Calculate the average, 25th and 75th percentiles of the relative errors across all tests\n",
        "average_relative_error = np.median(errors, axis=0)\n",
        "percentile_25 = np.percentile(errors, 25, axis=0)\n",
        "percentile_75 = np.percentile(errors, 75, axis=0)\n",
        "\n",
        "# Plotting the average relative error and quantiles over time steps\n",
        "plt.figure(figsize=(10, 6))\n",
        "times = np.linspace(0, T_final, n_steps + 1)\n",
        "plt.plot(times, average_relative_error, label='Average Relative Error', marker='o', color='blue')\n",
        "plt.plot(times, percentile_25, label='25th Percentile', linestyle='--', color='green')\n",
        "plt.plot(times, percentile_75, label='75th Percentile', linestyle='--', color='red')\n",
        "\n",
        "plt.title('Relative Error Metrics Over Time Steps')\n",
        "plt.xlabel('Time (s)')\n",
        "plt.ylabel('Relative Error')\n",
        "plt.legend()\n",
        "plt.grid(True)\n",
        "plt.show()\n"
      ],
      "metadata": {
        "colab": {
          "base_uri": "https://localhost:8080/",
          "height": 564
        },
        "id": "NsBseEWXKL84",
        "outputId": "f274200e-b638-4eca-d0e3-25699649364c"
      },
      "execution_count": 56,
      "outputs": [
        {
          "output_type": "display_data",
          "data": {
            "text/plain": [
              "<Figure size 1000x600 with 1 Axes>"
            ],
            "image/png": "[encoded data removed]"
          },
          "metadata": {}
        }
      ]
    },
    {
      "cell_type": "markdown",
      "source": [
        "**Cost of FOM Model Escluding Stokes**"
      ],
      "metadata": {
        "id": "i2u6XJX5YS44"
      }
    },
    {
      "cell_type": "code",
      "source": [
        "import time\n",
        "import numpy as np\n",
        "import scipy.sparse as sp\n",
        "from scipy.sparse.linalg import spsolve\n",
        "\n",
        "def Convdiff_solver_time(w1, w2, steps=50, dt=5e-4):\n",
        "    start_time = time.time()  # Start tracking time for Convdiff_solver\n",
        "\n",
        "    # Assume 'assemble', 'TrialFunction', 'TestFunction', 'dx', 'inner', 'grad', 'Vh', 'fe.asvector', 'bspace' are defined elsewhere\n",
        "\n",
        "    # Assembling relevant operators\n",
        "    v1, v2 = TrialFunction(Vh), TestFunction(Vh)\n",
        "    M = sp.csr_matrix(assemble(v1*v2*dx).array())  # mass matrix\n",
        "    S = sp.csr_matrix(assemble(inner(grad(v1), grad(v2))*dx).array())  # stiffness (diffusion) matrix\n",
        "\n",
        "    stokes_time = 0  # To track time spent in Stokes_solver\n",
        "\n",
        "    start_stokes = time.time()\n",
        "    b = Stokes_solver(w1, w2)\n",
        "    stokes_time += time.time() - start_stokes\n",
        "\n",
        "    start_stokes = time.time()\n",
        "    b1 = Stokes_solver(1, 0)\n",
        "    stokes_time += time.time() - start_stokes\n",
        "\n",
        "    start_stokes = time.time()\n",
        "    b2 = Stokes_solver(0, 1)\n",
        "    stokes_time += time.time() - start_stokes\n",
        "\n",
        "    bf = fe.asvector(b, bspace)\n",
        "    bf1 = fe.asvector(b1, bspace)\n",
        "    bf2 = fe.asvector(b2, bspace)\n",
        "\n",
        "    B = sp.csr_matrix(assemble(inner(bf, grad(v1))*v2*dx).array())  # transport matrix\n",
        "    B1 = sp.csr_matrix(assemble(inner(bf1, grad(v1))*v2*dx).array())\n",
        "    B2 = sp.csr_matrix(assemble(inner(bf2, grad(v1))*v2*dx).array())\n",
        "\n",
        "    # Time-stepping scheme\n",
        "    def FOMstep(u0, dt, b):\n",
        "        A = M + dt*S + dt*B\n",
        "        F = M @ u0\n",
        "        return spsolve(A, F)\n",
        "\n",
        "    # Initial condition\n",
        "    x, y = fe.coordinates(Vh).T\n",
        "    u0 = np.exp(-16*(x-0.5)**2 -16*(y-0.5)**2)\n",
        "\n",
        "    # Initialize storage for solution as a NumPy array\n",
        "    u = np.empty((len(u0), steps + 1))\n",
        "    u[:, 0] = u0\n",
        "\n",
        "    # Time loop\n",
        "    for n in range(steps):\n",
        "        u[:, n + 1] = FOMstep(u[:, n], dt, b)\n",
        "\n",
        "    total_time = time.time() - start_time\n",
        "    execution_time = total_time - stokes_time  # Subtracting the time spent in Stokes_solver\n",
        "\n",
        "    return u, M, S, B, B1, B2, execution_time  # Adding execution_time to the returned values\n",
        "\n",
        "# Usage\n",
        "u, M, S, B, B1, B2, execution_time = Convdiff_solver_time(w1, w2)\n",
        "print(\"Execution time excluding Stokes_solver:\", execution_time)\n"
      ],
      "metadata": {
        "colab": {
          "base_uri": "https://localhost:8080/"
        },
        "id": "LGQVx-onWUTA",
        "outputId": "aa93a550-08eb-4225-b4eb-71e30919fa37"
      },
      "execution_count": 57,
      "outputs": [
        {
          "output_type": "stream",
          "name": "stdout",
          "text": [
            "Execution time excluding Stokes_solver: 0.266737699508667\n"
          ]
        }
      ]
    },
    {
      "cell_type": "code",
      "source": [
        "import random\n",
        "\n",
        "def run_tests_and_calculate_average(number_of_tests=10):\n",
        "    total_time = 0\n",
        "\n",
        "    for _ in range(number_of_tests):\n",
        "        # Generate random values for w1 and w2 between 0 and 100\n",
        "        w1 = random.uniform(0, 100)\n",
        "        w2 = random.uniform(0, 100)\n",
        "\n",
        "        # Call Convdiff_solver and record the execution time\n",
        "        _, _, _, _, _, _, execution_time = Convdiff_solver_time(w1, w2)\n",
        "        total_time += execution_time\n",
        "\n",
        "    # Calculate the average execution time\n",
        "    average_time = total_time / number_of_tests\n",
        "    return average_time\n",
        "\n",
        "# Usage\n",
        "average_execution_time = run_tests_and_calculate_average()\n",
        "print(\"Average execution time excluding Stokes_solver over 20 tests:\", average_execution_time)\n"
      ],
      "metadata": {
        "colab": {
          "base_uri": "https://localhost:8080/"
        },
        "id": "HJm9vuCnYvk7",
        "outputId": "1987e6f6-16d4-4504-9b3b-9af688944526"
      },
      "execution_count": 59,
      "outputs": [
        {
          "output_type": "stream",
          "name": "stdout",
          "text": [
            "Average execution time excluding Stokes_solver over 20 tests: 0.29109740257263184\n"
          ]
        }
      ]
    },
    {
      "cell_type": "markdown",
      "source": [
        "**Cost of ROM Model**"
      ],
      "metadata": {
        "id": "CvTbvaArZL94"
      }
    },
    {
      "cell_type": "code",
      "source": [
        "import numpy as np\n",
        "import matplotlib.pyplot as plt\n",
        "import time  # Import the time module\n",
        "\n",
        "# Define the problem dimensions and parameters\n",
        "n_tests = 50\n",
        "T_final = 0.025\n",
        "dt = 5e-4\n",
        "n_steps = int(T_final / dt)\n",
        "weights_range = (0, 1000)\n",
        "\n",
        "# Initialize the storage for errors\n",
        "errors = np.zeros((n_tests, n_steps + 1))\n",
        "\n",
        "total_time_spent = 0  # Variable to store total time spent in the nested loop\n",
        "\n",
        "# Loop over each test case\n",
        "for test in range(n_tests):\n",
        "    # Randomly sample weights w1 and w2\n",
        "    w1 = np.random.uniform(*weights_range)\n",
        "    w2 = np.random.uniform(*weights_range)\n",
        "\n",
        "    # Generate the system matrices for RB using the Convdiff_solver (assuming it's implemented)\n",
        "    #u, a, b, c, d, e = Convdiff_solver(w1, w2, steps=50, dt=dt)\n",
        "\n",
        "    # Initial condition projection\n",
        "    u0_rb = V.T @ u[:,0]\n",
        "\n",
        "    # Initialize storage for RB solution\n",
        "    u_rb[:, 0] = u0_rb\n",
        "\n",
        "    # Start timing the RB method loop\n",
        "    start_time = time.time()\n",
        "\n",
        "    # Time-stepping loop for the RB method\n",
        "    for n in range(n_steps):\n",
        "        u_rb[:, n + 1] = RBstep(u_rb[:, n], dt, w1, w2)\n",
        "\n",
        "    # Stop timing after the loop\n",
        "    end_time = time.time()\n",
        "    time_spent = end_time - start_time\n",
        "    total_time_spent += time_spent  # Accumulate the time spent in this test's loop\n",
        "\n",
        "\n",
        "\n",
        "# Output the total time spent in the nested loop\n",
        "print(f\"Average Time: {total_time_spent/50} seconds\")\n"
      ],
      "metadata": {
        "colab": {
          "base_uri": "https://localhost:8080/"
        },
        "id": "P96wdSUCbnbU",
        "outputId": "8dc508d2-d6ef-4196-fa2b-cc9b95e9c0b6"
      },
      "execution_count": 60,
      "outputs": [
        {
          "output_type": "stream",
          "name": "stdout",
          "text": [
            "Average Time: 0.001621870994567871 seconds\n"
          ]
        }
      ]
    }
  ]
}