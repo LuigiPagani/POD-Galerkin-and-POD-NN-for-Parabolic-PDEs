{
  "nbformat": 4,
  "nbformat_minor": 0,
  "metadata": {
    "colab": {
      "provenance": [],
      "gpuType": "T4",
      "include_colab_link": true
    },
    "kernelspec": {
      "name": "python3",
      "display_name": "Python 3"
    },
    "language_info": {
      "name": "python"
    },
    "accelerator": "GPU"
  },
  "cells": [
    {
      "cell_type": "markdown",
      "metadata": {
        "id": "view-in-github",
        "colab_type": "text"
      },
      "source": [
        "<a href=\"https://colab.research.google.com/github/LuigiPagani/POD-Galerkin-for-the-Advection-Diffusion-Equation-Equation/blob/main/POD_NN.ipynb\" target=\"_parent\"><img src=\"https://colab.research.google.com/assets/colab-badge.svg\" alt=\"Open In Colab\"/></a>"
      ]
    },
    {
      "cell_type": "code",
      "execution_count": 1,
      "metadata": {
        "id": "IW12vkiSixlX"
      },
      "outputs": [],
      "source": [
        "import numpy as np\n",
        "import matplotlib.pyplot as plt\n",
        "try:\n",
        "     import dlroms.fespaces as fe\n",
        "except:\n",
        "     !pip install git+https://github.com/NicolaRFranco/dlroms.git\n",
        "     import dlroms.fespaces as fe"
      ]
    },
    {
      "cell_type": "markdown",
      "source": [
        "# **Lab 6 - Data-driven ROMs: the POD-NN approach**\n",
        "\n",
        "When the PDE at hand involves nonlinear operators, implementing a POD-Galerkin ROM becomes highly nontrivial. In fact, suitable tricks, such as hyper-reduction, become necessary in order to ensure that the resulting ROM is sufficently fast (both in assembling the reduced system and in solving it). To overcome this difficulty, another approach is to switch from intrusive to nonintrusive methods, ultimately moving from physics-based ROMs towards data-driven ROMs.\n",
        "</br>\n",
        "</br>\n",
        "We mentioned that methods based on POD rely on the following approximation\n",
        "\n",
        "$$\\mathbf{u}_{\\boldsymbol{\\mu}}\\approx \\mathbf{V}\\mathbf{V}^\\top\\mathbf{u}_{\\boldsymbol{\\mu}},$$\n",
        "\n",
        "where $\\mathbf{V}\\in\\mathbb{R}^{N_h\\times n}$ is the POD matrix. In particular, if we denote the POD coefficients by $\\mathbf{c}_{\\boldsymbol{\\mu}}:=\\mathbf{V}^\\top\\mathbf{u}_{\\boldsymbol{\\mu}}$, then the latter can be re-written as\n",
        "\n",
        "$$\\mathbf{u}_{\\boldsymbol{\\mu}}\\approx \\mathbf{V}\\mathbf{c}_{\\boldsymbol{\\mu}}.$$\n",
        "\n",
        "**In classical Reduced Basis methods**, such as POD-Galerkin, given $\\boldsymbol{\\mu}\\in\\mathbb{R}^{p}$, **the vector of POD coefficients is approximated by solving the projected PDE**, yielding $\\tilde{\\mathbf{c}}_{\\boldsymbol{\\mu}}\\approx \\mathbf{c}_{\\boldsymbol{\\mu}}$. For simple second order elliptic PDEs, this approximation is known to be optimal up to a constant (cf. Céa's Lemma).\n",
        "</br>\n",
        "</br>\n",
        "**In contrast**, the idea behind data-driven techniques is to approximate the map\n",
        "$$\\mathbb{R}^{p}\\ni\\boldsymbol{\\mu}\\mapsto \\mathbf{c}_{\\boldsymbol{\\mu}}\\in\\mathbb{R}^{n}$$\n",
        "by fitting a suitable (nonlinear) regression model. To this end, a popular approach is to rely on deep neural networks: the resulting technique is typically referred to as **POD-NN**. The algorithm can be synthesized as follows:\n",
        "\n",
        "- Collect FOM snapshots $\\{\\boldsymbol{\\mu}_i, \\mathbf{u}_{i}\\}_{i=1}^{N}$, where $\\mathbf{u}_i:=\\mathbf{u}_{\\boldsymbol{\\mu}_i}$;\n",
        "\n",
        "- Compute the POD basis $\\mathbf{V}$ via SVD of the snapshots matrix\n",
        "\n",
        "- Construct a new dataset $\\{\\boldsymbol{\\mu}_i, \\mathbf{c}_{i}\\}_{i=1}^{N}$, consisting of parameter instances and POD coefficients, via projection $\\mathbf{c}_{i}:=\\mathbf{V}^\\top\\mathbf{u}_i$;\n",
        "\n",
        "- Fit a neural network $\\phi:\\mathbb{R}^{p}\\to\\mathbb{R}^{n}$ so that $\\phi(\\boldsymbol{\\mu}_i)\\approx\\mathbf{c}_{i}$;\n",
        "\n",
        "- Define the ROM as the map $\\boldsymbol{\\mu}\\mapsto \\mathbf{V}\\phi(\\boldsymbol{\\mu})$."
      ],
      "metadata": {
        "id": "llsANXkdoywy"
      }
    },
    {
      "cell_type": "code",
      "source": [
        "!pip install pyDOE"
      ],
      "metadata": {
        "colab": {
          "base_uri": "https://localhost:8080/"
        },
        "id": "LvKzvxTlM-XF",
        "outputId": "12ac47a5-2199-499e-e67a-4e28d1dcd972"
      },
      "execution_count": 2,
      "outputs": [
        {
          "output_type": "stream",
          "name": "stdout",
          "text": [
            "Requirement already satisfied: pyDOE in /usr/local/lib/python3.10/dist-packages (0.3.8)\n",
            "Requirement already satisfied: numpy in /usr/local/lib/python3.10/dist-packages (from pyDOE) (1.25.2)\n",
            "Requirement already satisfied: scipy in /usr/local/lib/python3.10/dist-packages (from pyDOE) (1.11.4)\n"
          ]
        }
      ]
    },
    {
      "cell_type": "code",
      "source": [
        "import numpy as np\n",
        "import matplotlib.pyplot as plt\n",
        "\n",
        "\n",
        "from fenics import*\n",
        "import dlroms.fespaces as fe\n",
        "import numpy as np\n",
        "from IPython.display import clear_output as clc\n",
        "\n",
        "mesh = fe.unitsquaremesh(80, 80)\n",
        "Vh = fe.space(mesh, 'CG', 1)\n",
        "xb = fe.coordinates(Vh)\n",
        "clc()\n",
        "\n",
        "def solveStokes(hpipe):\n",
        "    domain = fe.rectangle((0, 0), (1, 1)) - fe.rectangle((0, hpipe), (1-hpipe, 1-hpipe))\n",
        "    mesh = fe.mesh(domain, stepsize = 0.009)\n",
        "\n",
        "    pP1  = FiniteElement(\"CG\", mesh.ufl_cell(), 1)\n",
        "    vP1B = VectorElement(\"CG\",  mesh.ufl_cell(), 2)\n",
        "\n",
        "    pspace, vspace = pP1, vP1B\n",
        "    W = FunctionSpace(mesh, vspace * pspace)\n",
        "    (b, p) = TrialFunctions(W)\n",
        "    (v, q) = TestFunctions(W)\n",
        "\n",
        "    space = fe.space(mesh, \"CG\", 2, scalar = False)\n",
        "\n",
        "    a = 100*inner(grad(b), grad(v))*dx - div(v)*p*dx - q*div(b)*dx\n",
        "    L = inner(Constant((0.0, 0.0)), v)*dx\n",
        "    dbc = DirichletBC(W.sub(0), Constant((0.0, 0.0)), lambda x, on: on and x[0]>1e-12)\n",
        "    dbc_in = DirichletBC(W.sub(0), Expression((\"x[1]*(%.2f-x[1])/pow(%.2f, 3)\" % (hpipe, hpipe), \"0.0\"), degree = 2),\n",
        "                         lambda x, on: on and (x[0]<=1e-12) and (x[1]<0.5))\n",
        "    dbc_out = DirichletBC(W.sub(1), Constant(0.0), lambda x, on: on and (x[0]<1e-12) and (x[1]>0.5))\n",
        "\n",
        "    bp = Function(W)\n",
        "    solve(a == L, bp, [dbc, dbc_out, dbc_in])\n",
        "    clc()\n",
        "    return bp\n",
        "\n",
        "\n",
        "def FOMstep(u0, t, dt, bfield, sigma, hpipe):\n",
        "    u, v  = TrialFunction(Vh), TestFunction(Vh)\n",
        "    u0f = fe.asvector(u0, Vh)\n",
        "    a = dt*(inner(sigma*grad(u), grad(v))*dx + 10*inner(bfield, grad(u))*v*dx) + u*v*dx\n",
        "    f = u0f*v*dx\n",
        "\n",
        "    dbc = DirichletBC(Vh, Constant(1.0-np.exp(-t)), lambda x, on: on and x[0]<=1e-12 and x[1]<=hpipe)\n",
        "\n",
        "    u = Function(Vh)\n",
        "    solve(a == f, u, dbc)\n",
        "    return u.vector()[:]\n",
        "\n",
        "\n",
        "def FOMsolver(hpipe, dpipe, dbulk):\n",
        "    bp = solveStokes(hpipe)\n",
        "    b = []\n",
        "    for x in xb:\n",
        "        try:\n",
        "            b.append(list(bp(*x))[:2])\n",
        "        except:\n",
        "            b.append([0.0, 0.0])\n",
        "    b = np.stack(b).reshape(-1)\n",
        "    Vb = fe.space(Vh.mesh(), 'CG', 1, scalar = False)\n",
        "    bfield = fe.asvector(b, Vb)\n",
        "\n",
        "    x, y = fe.coordinates(Vh).T\n",
        "    ind = (x>(1.0-hpipe)) + (x<=(1.0-hpipe))*(np.abs(y-0.5)>(0.5-hpipe))\n",
        "    sigma = dpipe*ind + (1-ind)*dbulk\n",
        "    sigma = fe.asvector(sigma, Vh)\n",
        "\n",
        "    u = [np.zeros(Vh.dim())]\n",
        "    t = 0.0\n",
        "    dt = 5e-2\n",
        "    for j in range(100):\n",
        "        u.append(FOMstep(u[-1], t, dt, bfield, sigma, hpipe))\n",
        "        t += dt\n",
        "    return 1.0 - np.stack(u)\n",
        "\n",
        "\n",
        "\n"
      ],
      "metadata": {
        "id": "w_iQQJM7M6fP"
      },
      "execution_count": 1,
      "outputs": []
    },
    {
      "cell_type": "code",
      "source": [
        "import numpy as np\n",
        "import matplotlib.pyplot as plt\n",
        "\n",
        "# Set the seed for reproducibility\n",
        "np.random.seed(42)\n",
        "\n",
        "# Define the parameter ranges\n",
        "delta_range = (0.05, 0.1)\n",
        "D_range = (1, 5)\n",
        "d_range = (0.02, 0.08)\n",
        "\n",
        "# Generate an 8x3 array of random parameter values within the specified ranges\n",
        "num_samples = 100\n",
        "params = np.zeros((num_samples, 3))\n",
        "params[:, 0] = np.random.uniform(delta_range[0], delta_range[1], num_samples)  # deltas\n",
        "params[:, 1] = np.random.uniform(D_range[0], D_range[1], num_samples)          # Ds\n",
        "params[:, 2] = np.random.uniform(d_range[0], d_range[1], num_samples)          # ds\n",
        "\n",
        "# Initialize snapshots as None\n",
        "snapshots = None\n",
        "\n",
        "# Iterate over all combinations of parameters in the generated array\n",
        "for p in params:\n",
        "    delta, D, d = p\n",
        "    # Solve the model for the current set of parameters\n",
        "    u = FOMsolver(delta, D, d)\n",
        "\n",
        "    # Assemble the snapshot matrix\n",
        "    if snapshots is None:\n",
        "        snapshots = u  # Initialize with the first result\n",
        "    else:\n",
        "        snapshots = np.hstack((snapshots, u))  # Stack horizontally with the existing snapshots\n",
        "\n",
        "# Perform Singular Value Decomposition (SVD)\n",
        "U, S, Vt = np.linalg.svd(snapshots, full_matrices=False)\n",
        "\n",
        "# Plot the singular values' decay\n",
        "plt.figure(figsize=(10, 6))\n",
        "plt.plot(S, 'o-', label='Singular values')\n",
        "plt.yscale('log')\n",
        "plt.xlabel('Index')\n",
        "plt.ylabel('Singular value (log scale)')\n",
        "plt.title('Singular Values Decay')\n",
        "plt.legend()\n",
        "plt.grid(True)\n",
        "plt.show()\n"
      ],
      "metadata": {
        "colab": {
          "base_uri": "https://localhost:8080/",
          "height": 486
        },
        "id": "FByQq90SZtv0",
        "outputId": "068e342e-2489-4039-cd34-240eaeb0720f"
      },
      "execution_count": 2,
      "outputs": [
        {
          "output_type": "display_data",
          "data": {
            "text/plain": [
              "<Figure size 1000x600 with 1 Axes>"
            ],
            "image/png": "[encoded data removed]"
          },
          "metadata": {}
        }
      ]
    },
    {
      "cell_type": "code",
      "source": [
        "params"
      ],
      "metadata": {
        "colab": {
          "base_uri": "https://localhost:8080/"
        },
        "id": "JVjrZo64gypC",
        "outputId": "ee83136a-5c0b-43eb-e758-7314e8684e42"
      },
      "execution_count": 3,
      "outputs": [
        {
          "output_type": "execute_result",
          "data": {
            "text/plain": [
              "array([[0.06872701, 1.12571674, 0.0585219 ],\n",
              "       [0.09753572, 3.54564165, 0.0250484 ],\n",
              "       [0.0865997 , 2.25742392, 0.02969772],\n",
              "       [0.07993292, 3.03428276, 0.07391325],\n",
              "       [0.05780093, 4.6302659 , 0.05638574],\n",
              "       [0.05779973, 1.99716892, 0.02055182],\n",
              "       [0.05290418, 2.64153169, 0.02608829],\n",
              "       [0.09330881, 4.02220455, 0.05981011],\n",
              "       [0.08005575, 1.91519266, 0.0203037 ],\n",
              "       [0.08540363, 1.30791964, 0.02964848],\n",
              "       [0.05102922, 2.15900581, 0.05292403],\n",
              "       [0.09849549, 1.64488515, 0.06151371],\n",
              "       [0.09162213, 4.71879061, 0.05911768],\n",
              "       [0.06061696, 4.23248152, 0.03345616],\n",
              "       [0.05909125, 3.53361503, 0.06273075],\n",
              "       [0.05917023, 4.48584236, 0.03423495],\n",
              "       [0.06521211, 4.21468831, 0.03952398],\n",
              "       [0.07623782, 1.74628024, 0.06478948],\n",
              "       [0.07159725, 4.57023599, 0.05897797],\n",
              "       [0.06456146, 3.15736897, 0.0709534 ],\n",
              "       [0.08059264, 4.22976062, 0.05945677],\n",
              "       [0.05697469, 4.5843652 , 0.05409852],\n",
              "       [0.06460723, 2.2720139 , 0.02562049],\n",
              "       [0.06831809, 1.4402077 , 0.04206295],\n",
              "       [0.0728035 , 1.91174065, 0.03591214],\n",
              "       [0.0892588 , 2.70843115, 0.03463938],\n",
              "       [0.05998369, 4.27205906, 0.07838063],\n",
              "       [0.07571172, 4.44292233, 0.04358586],\n",
              "       [0.07962073, 1.02780852, 0.07352279],\n",
              "       [0.05232252, 3.04298921, 0.05786832],\n",
              "       [0.08037724, 2.66964401, 0.06768868],\n",
              "       [0.05852621, 1.88843124, 0.05015823],\n",
              "       [0.05325258, 1.47946147, 0.05461423],\n",
              "       [0.09744428, 2.35046069, 0.04955106],\n",
              "       [0.0982816 , 4.77163882, 0.03171458],\n",
              "       [0.09041987, 2.29281173, 0.06334713],\n",
              "       [0.06523069, 3.07516249, 0.03684634],\n",
              "       [0.05488361, 3.81207584, 0.02145896],\n",
              "       [0.08421165, 2.45451841, 0.05872834],\n",
              "       [0.07200762, 4.88712833, 0.03062664],\n",
              "       [0.05610191, 4.84978918, 0.07642752],\n",
              "       [0.07475885, 2.00712918, 0.07723571],\n",
              "       [0.05171943, 2.98899402, 0.07489186],\n",
              "       [0.09546602, 2.20351324, 0.04220952],\n",
              "       [0.062939  , 2.13936198, 0.0209274 ],\n",
              "       [0.08312611, 1.14754779, 0.07569911],\n",
              "       [0.06558555, 3.43825734, 0.04569105],\n",
              "       [0.0760034 , 3.01071609, 0.07799929],\n",
              "       [0.07733551, 1.205915  , 0.0778172 ],\n",
              "       [0.05924272, 2.11458586, 0.07118057],\n",
              "       [0.09847923, 4.63306354, 0.03766693],\n",
              "       [0.08875664, 1.95824756, 0.04310586],\n",
              "       [0.09697495, 1.57957949, 0.0710682 ],\n",
              "       [0.09474137, 2.95781104, 0.03901532],\n",
              "       [0.079895  , 4.94260182, 0.03016956],\n",
              "       [0.09609371, 1.96822109, 0.05340808],\n",
              "       [0.05442463, 3.68854219, 0.07616929],\n",
              "       [0.05979914, 4.04647846, 0.06176179],\n",
              "       [0.05226136, 1.95055018, 0.05420367],\n",
              "       [0.06626652, 3.91286539, 0.02583059],\n",
              "       [0.06943386, 2.47113253, 0.05690043],\n",
              "       [0.06356745, 3.52922332, 0.07940323],\n",
              "       [0.09143688, 3.53411884, 0.02840504],\n",
              "       [0.06783767, 3.14309874, 0.05109978],\n",
              "       [0.06404673, 1.36115908, 0.07264238],\n",
              "       [0.0771348 , 4.34120998, 0.06444612],\n",
              "       [0.05704621, 2.28312026, 0.06182094],\n",
              "       [0.09010985, 1.74607404, 0.06214905],\n",
              "       [0.05372753, 1.16310057, 0.04156947],\n",
              "       [0.09934435, 3.36357177, 0.03761551],\n",
              "       [0.08861224, 3.71025745, 0.06856167],\n",
              "       [0.05993578, 1.06635132, 0.0686068 ],\n",
              "       [0.05027611, 3.04837223, 0.07202434],\n",
              "       [0.09077307, 1.9059831 , 0.07479443],\n",
              "       [0.08534287, 3.58069116, 0.05068054],\n",
              "       [0.08645036, 1.69746572, 0.05009098],\n",
              "       [0.08856352, 3.76375095, 0.06789771],\n",
              "       [0.05370223, 2.54694139, 0.05899784],\n",
              "       [0.06792329, 4.74691995, 0.06211801],\n",
              "       [0.05579345, 1.55008378, 0.06774756],\n",
              "       [0.09315517, 2.3642654 , 0.07340032],\n",
              "       [0.08116491, 1.45389408, 0.04027971],\n",
              "       [0.0665449 , 4.69877447, 0.04253498],\n",
              "       [0.05317792, 4.50935741, 0.02563892],\n",
              "       [0.06554912, 2.03176651, 0.05469681],\n",
              "       [0.06625917, 3.63993618, 0.02215654],\n",
              "       [0.08648031, 4.2688888 , 0.04793588],\n",
              "       [0.08187787, 3.22080325, 0.05255868],\n",
              "       [0.09436064, 3.11860231, 0.03719248],\n",
              "       [0.07361075, 1.96740916, 0.05545   ],\n",
              "       [0.05597971, 1.37241107, 0.02183001],\n",
              "       [0.08566224, 4.58886303, 0.02224089],\n",
              "       [0.08803925, 4.60167223, 0.06935603],\n",
              "       [0.07806386, 3.53240583, 0.04161144],\n",
              "       [0.08854836, 2.35611916, 0.02762363],\n",
              "       [0.07468978, 2.3968383 , 0.0513346 ],\n",
              "       [0.07613664, 3.90382272, 0.06619961],\n",
              "       [0.07137705, 4.58844104, 0.03294926],\n",
              "       [0.05127096, 4.5483457 , 0.05737343],\n",
              "       [0.05539457, 4.11950218, 0.02512085]])"
            ]
          },
          "metadata": {},
          "execution_count": 3
        }
      ]
    },
    {
      "cell_type": "code",
      "source": [
        "np.save('snapshots.npy', snapshots)\n",
        "np.save('params.npy', params)\n",
        "snapshots.shape"
      ],
      "metadata": {
        "colab": {
          "base_uri": "https://localhost:8080/"
        },
        "id": "zOx9Z0ADNHvJ",
        "outputId": "677b8ae9-84bd-4564-92c5-c1d4ed788bfd"
      },
      "execution_count": 4,
      "outputs": [
        {
          "output_type": "execute_result",
          "data": {
            "text/plain": [
              "(101, 656100)"
            ]
          },
          "metadata": {},
          "execution_count": 4
        }
      ]
    },
    {
      "cell_type": "code",
      "source": [
        "snapshots.shape"
      ],
      "metadata": {
        "colab": {
          "base_uri": "https://localhost:8080/"
        },
        "id": "y0ym3eNiffr-",
        "outputId": "d5f6e03a-2e09-4c30-fb75-26016ca29f43"
      },
      "execution_count": 5,
      "outputs": [
        {
          "output_type": "execute_result",
          "data": {
            "text/plain": [
              "(101, 656100)"
            ]
          },
          "metadata": {},
          "execution_count": 5
        }
      ]
    },
    {
      "cell_type": "code",
      "source": [
        "import torch\n",
        "import numpy as np\n",
        "import random\n",
        "import os\n",
        "\n",
        "def set_seed(seed: int = 42):\n",
        "    \"\"\"\n",
        "    Set seed for reproducibility.\n",
        "\n",
        "    Args:\n",
        "        seed (int): Seed to use for random number generators. Default is 42.\n",
        "    \"\"\"\n",
        "    random.seed(seed)\n",
        "    os.environ['PYTHONHASHSEED'] = str(seed)\n",
        "    np.random.seed(seed)\n",
        "    torch.manual_seed(seed)\n",
        "    torch.cuda.manual_seed(seed)\n",
        "    torch.cuda.manual_seed_all(seed)  # if you are using multi-GPU.\n",
        "    torch.backends.cudnn.deterministic = True\n",
        "    torch.backends.cudnn.benchmark = False\n",
        "\n"
      ],
      "metadata": {
        "id": "LLr2SSrV8Fwo"
      },
      "execution_count": 6,
      "outputs": []
    },
    {
      "cell_type": "code",
      "source": [
        "#@title Singular Value Study and Reduced Matrix assmembly\n",
        "from scipy.linalg import svd\n",
        "import numpy as np\n",
        "from fenics import *\n",
        "from pyDOE import lhs\n",
        "from scipy.sparse.linalg import spsolve\n",
        "import dlroms.fespaces as fe\n",
        "import numpy as np\n",
        "from scipy.sparse.linalg import spsolve\n",
        "from scipy.sparse import csr_matrix\n",
        "import scipy.sparse as sp\n",
        "from scipy.sparse.linalg import spsolve\n",
        "\n",
        "\n",
        "snapshots = np.array(snapshots)\n",
        "U, s, Vt = svd(snapshots, full_matrices=False)\n",
        "\n",
        "\n",
        "# Now you can apply SVD or any other analysis you wish to this giant matrix\n",
        "from scipy.linalg import svd\n",
        "U, s, Vt = svd(snapshots, full_matrices=False)\n",
        "\n",
        "energy = np.cumsum(s**2) / np.sum(s**2)\n",
        "\n",
        "n_modes = 5\n",
        "\n",
        "V = U[:, :n_modes]\n",
        "\n",
        "import matplotlib.pyplot as plt\n",
        "import numpy as np\n",
        "\n",
        "# Assuming 's' contains your singular values from the SVD\n",
        "singular_values = s[1:60]  # Exclude the largest singular value\n",
        "\n",
        "# Plotting the remaining singular values\n",
        "plt.figure(figsize=(10, 6))\n",
        "plt.plot(singular_values, marker='o')\n",
        "plt.title('Singular Values Excluding the Largest')\n",
        "plt.xlabel('Index')\n",
        "plt.ylabel('Singular Value')\n",
        "plt.grid(True)\n",
        "plt.show()\n",
        "\n",
        "\n",
        "\n",
        "\n",
        "mesh = fe.unitsquaremesh(30, 30)\n",
        "Vh = fe.space(mesh, 'CG', 1) # FE space for u (chemical concentration)\n",
        "bspace = fe.space(mesh, \"CG\", 1, scalar = False, bubble = True) # FE space for b (transport field)\n",
        "\n",
        "from scipy.sparse import csr_matrix\n",
        "\n",
        "# Assuming we have a function to assemble FOM matrices\n",
        "\n",
        "\n",
        "\n"
      ],
      "metadata": {
        "colab": {
          "base_uri": "https://localhost:8080/",
          "height": 493
        },
        "id": "D4a2ma49PZ8l",
        "outputId": "54eeca5a-57d2-491f-8670-73667e886c9a"
      },
      "execution_count": 7,
      "outputs": [
        {
          "output_type": "display_data",
          "data": {
            "text/plain": [
              "<Figure size 1000x600 with 1 Axes>"
            ],
            "image/png": "[encoded data removed]"
          },
          "metadata": {}
        }
      ]
    },
    {
      "cell_type": "markdown",
      "source": [
        "The script also gives access to a collection of $N$ FOM simulations, which can be readily downloaded and inspected. The data were sampled by picking random values of $\\boldsymbol{\\mu}$ uniformly in the parameter space $[80, 120]^3\\times [1.5, 5] \\times [-3.5, -1.5].$"
      ],
      "metadata": {
        "id": "W2cVxWYN4fzv"
      }
    },
    {
      "cell_type": "markdown",
      "source": [
        "**Note**\n",
        "\n",
        "NN based ROMs become even more efficient when multiple calls are required (1000 calls are not 1000 times more expensive than a single call)! This is thanks to the elevanted efficiency of matrix-matrix multiplication."
      ],
      "metadata": {
        "id": "l77nochp_gKA"
      }
    },
    {
      "cell_type": "code",
      "source": [
        "params"
      ],
      "metadata": {
        "colab": {
          "base_uri": "https://localhost:8080/"
        },
        "id": "kZzv6vTtxZ4T",
        "outputId": "8c414056-a55d-4b31-ec5a-94007a388842"
      },
      "execution_count": 8,
      "outputs": [
        {
          "output_type": "execute_result",
          "data": {
            "text/plain": [
              "array([[0.06872701, 1.12571674, 0.0585219 ],\n",
              "       [0.09753572, 3.54564165, 0.0250484 ],\n",
              "       [0.0865997 , 2.25742392, 0.02969772],\n",
              "       [0.07993292, 3.03428276, 0.07391325],\n",
              "       [0.05780093, 4.6302659 , 0.05638574],\n",
              "       [0.05779973, 1.99716892, 0.02055182],\n",
              "       [0.05290418, 2.64153169, 0.02608829],\n",
              "       [0.09330881, 4.02220455, 0.05981011],\n",
              "       [0.08005575, 1.91519266, 0.0203037 ],\n",
              "       [0.08540363, 1.30791964, 0.02964848],\n",
              "       [0.05102922, 2.15900581, 0.05292403],\n",
              "       [0.09849549, 1.64488515, 0.06151371],\n",
              "       [0.09162213, 4.71879061, 0.05911768],\n",
              "       [0.06061696, 4.23248152, 0.03345616],\n",
              "       [0.05909125, 3.53361503, 0.06273075],\n",
              "       [0.05917023, 4.48584236, 0.03423495],\n",
              "       [0.06521211, 4.21468831, 0.03952398],\n",
              "       [0.07623782, 1.74628024, 0.06478948],\n",
              "       [0.07159725, 4.57023599, 0.05897797],\n",
              "       [0.06456146, 3.15736897, 0.0709534 ],\n",
              "       [0.08059264, 4.22976062, 0.05945677],\n",
              "       [0.05697469, 4.5843652 , 0.05409852],\n",
              "       [0.06460723, 2.2720139 , 0.02562049],\n",
              "       [0.06831809, 1.4402077 , 0.04206295],\n",
              "       [0.0728035 , 1.91174065, 0.03591214],\n",
              "       [0.0892588 , 2.70843115, 0.03463938],\n",
              "       [0.05998369, 4.27205906, 0.07838063],\n",
              "       [0.07571172, 4.44292233, 0.04358586],\n",
              "       [0.07962073, 1.02780852, 0.07352279],\n",
              "       [0.05232252, 3.04298921, 0.05786832],\n",
              "       [0.08037724, 2.66964401, 0.06768868],\n",
              "       [0.05852621, 1.88843124, 0.05015823],\n",
              "       [0.05325258, 1.47946147, 0.05461423],\n",
              "       [0.09744428, 2.35046069, 0.04955106],\n",
              "       [0.0982816 , 4.77163882, 0.03171458],\n",
              "       [0.09041987, 2.29281173, 0.06334713],\n",
              "       [0.06523069, 3.07516249, 0.03684634],\n",
              "       [0.05488361, 3.81207584, 0.02145896],\n",
              "       [0.08421165, 2.45451841, 0.05872834],\n",
              "       [0.07200762, 4.88712833, 0.03062664],\n",
              "       [0.05610191, 4.84978918, 0.07642752],\n",
              "       [0.07475885, 2.00712918, 0.07723571],\n",
              "       [0.05171943, 2.98899402, 0.07489186],\n",
              "       [0.09546602, 2.20351324, 0.04220952],\n",
              "       [0.062939  , 2.13936198, 0.0209274 ],\n",
              "       [0.08312611, 1.14754779, 0.07569911],\n",
              "       [0.06558555, 3.43825734, 0.04569105],\n",
              "       [0.0760034 , 3.01071609, 0.07799929],\n",
              "       [0.07733551, 1.205915  , 0.0778172 ],\n",
              "       [0.05924272, 2.11458586, 0.07118057],\n",
              "       [0.09847923, 4.63306354, 0.03766693],\n",
              "       [0.08875664, 1.95824756, 0.04310586],\n",
              "       [0.09697495, 1.57957949, 0.0710682 ],\n",
              "       [0.09474137, 2.95781104, 0.03901532],\n",
              "       [0.079895  , 4.94260182, 0.03016956],\n",
              "       [0.09609371, 1.96822109, 0.05340808],\n",
              "       [0.05442463, 3.68854219, 0.07616929],\n",
              "       [0.05979914, 4.04647846, 0.06176179],\n",
              "       [0.05226136, 1.95055018, 0.05420367],\n",
              "       [0.06626652, 3.91286539, 0.02583059],\n",
              "       [0.06943386, 2.47113253, 0.05690043],\n",
              "       [0.06356745, 3.52922332, 0.07940323],\n",
              "       [0.09143688, 3.53411884, 0.02840504],\n",
              "       [0.06783767, 3.14309874, 0.05109978],\n",
              "       [0.06404673, 1.36115908, 0.07264238],\n",
              "       [0.0771348 , 4.34120998, 0.06444612],\n",
              "       [0.05704621, 2.28312026, 0.06182094],\n",
              "       [0.09010985, 1.74607404, 0.06214905],\n",
              "       [0.05372753, 1.16310057, 0.04156947],\n",
              "       [0.09934435, 3.36357177, 0.03761551],\n",
              "       [0.08861224, 3.71025745, 0.06856167],\n",
              "       [0.05993578, 1.06635132, 0.0686068 ],\n",
              "       [0.05027611, 3.04837223, 0.07202434],\n",
              "       [0.09077307, 1.9059831 , 0.07479443],\n",
              "       [0.08534287, 3.58069116, 0.05068054],\n",
              "       [0.08645036, 1.69746572, 0.05009098],\n",
              "       [0.08856352, 3.76375095, 0.06789771],\n",
              "       [0.05370223, 2.54694139, 0.05899784],\n",
              "       [0.06792329, 4.74691995, 0.06211801],\n",
              "       [0.05579345, 1.55008378, 0.06774756],\n",
              "       [0.09315517, 2.3642654 , 0.07340032],\n",
              "       [0.08116491, 1.45389408, 0.04027971],\n",
              "       [0.0665449 , 4.69877447, 0.04253498],\n",
              "       [0.05317792, 4.50935741, 0.02563892],\n",
              "       [0.06554912, 2.03176651, 0.05469681],\n",
              "       [0.06625917, 3.63993618, 0.02215654],\n",
              "       [0.08648031, 4.2688888 , 0.04793588],\n",
              "       [0.08187787, 3.22080325, 0.05255868],\n",
              "       [0.09436064, 3.11860231, 0.03719248],\n",
              "       [0.07361075, 1.96740916, 0.05545   ],\n",
              "       [0.05597971, 1.37241107, 0.02183001],\n",
              "       [0.08566224, 4.58886303, 0.02224089],\n",
              "       [0.08803925, 4.60167223, 0.06935603],\n",
              "       [0.07806386, 3.53240583, 0.04161144],\n",
              "       [0.08854836, 2.35611916, 0.02762363],\n",
              "       [0.07468978, 2.3968383 , 0.0513346 ],\n",
              "       [0.07613664, 3.90382272, 0.06619961],\n",
              "       [0.07137705, 4.58844104, 0.03294926],\n",
              "       [0.05127096, 4.5483457 , 0.05737343],\n",
              "       [0.05539457, 4.11950218, 0.02512085]])"
            ]
          },
          "metadata": {},
          "execution_count": 8
        }
      ]
    },
    {
      "cell_type": "code",
      "source": [
        "from dlroms import*\n",
        "mu = dv.tensor(params)\n",
        "u = dv.tensor(u)\n",
        "V = dv.tensor(V)\n",
        "nh = 101"
      ],
      "metadata": {
        "id": "nxui9qeUjILE"
      },
      "execution_count": 9,
      "outputs": []
    },
    {
      "cell_type": "code",
      "source": [
        "V.shape\n"
      ],
      "metadata": {
        "colab": {
          "base_uri": "https://localhost:8080/"
        },
        "id": "sTbp9igukhIf",
        "outputId": "d9ed4e90-07c6-4143-ad17-8b90699e96f5"
      },
      "execution_count": 10,
      "outputs": [
        {
          "output_type": "execute_result",
          "data": {
            "text/plain": [
              "torch.Size([101, 5])"
            ]
          },
          "metadata": {},
          "execution_count": 10
        }
      ]
    },
    {
      "cell_type": "code",
      "source": [
        "u.shape"
      ],
      "metadata": {
        "colab": {
          "base_uri": "https://localhost:8080/"
        },
        "id": "aF85o4kKkjsk",
        "outputId": "72c3e377-278b-4a75-ddc7-fa34186e124f"
      },
      "execution_count": 11,
      "outputs": [
        {
          "output_type": "execute_result",
          "data": {
            "text/plain": [
              "torch.Size([101, 6561])"
            ]
          },
          "metadata": {},
          "execution_count": 11
        }
      ]
    },
    {
      "cell_type": "code",
      "source": [
        "ntrain = 3\n",
        "u = u.T\n",
        "uproj = u @ V @ V.T\n",
        "avg_proj_error = mre(euclidean)(u[ntrain:], uproj[ntrain:])\n",
        "print(\"Average projection error: %s.\" % num2p(avg_proj_error))"
      ],
      "metadata": {
        "colab": {
          "base_uri": "https://localhost:8080/"
        },
        "id": "3732NCA_kbhT",
        "outputId": "1334dce8-0719-4478-c5e9-270933a636e1"
      },
      "execution_count": 12,
      "outputs": [
        {
          "output_type": "stream",
          "name": "stdout",
          "text": [
            "Average projection error: 0.08%.\n"
          ]
        }
      ]
    },
    {
      "cell_type": "code",
      "source": [
        "c = u @ V\n",
        "c.shape\n",
        "c = dv.tensor(c)"
      ],
      "metadata": {
        "colab": {
          "base_uri": "https://localhost:8080/"
        },
        "id": "1htV_QaykPGU",
        "outputId": "666d33fc-66fd-415b-82d6-fa1ca057c5a1"
      },
      "execution_count": 13,
      "outputs": [
        {
          "output_type": "stream",
          "name": "stderr",
          "text": [
            "/usr/local/lib/python3.10/dist-packages/dlroms/cores.py:56: UserWarning: To copy construct from a tensor, it is recommended to use sourceTensor.clone().detach() or sourceTensor.clone().detach().requires_grad_(True), rather than torch.tensor(sourceTensor).\n",
            "  return ttensor(arrays[0], dtype = self.dtype, device = self.device)\n"
          ]
        }
      ]
    },
    {
      "cell_type": "markdown",
      "source": [
        "<mark>**Exercise 2**</mark></br>\n",
        "Let $T_2 = 90,\\; T_3 = 115,\\;f = 10^3,\\;\\alpha=10^{-3}.$ Which value of $T_1\\in[80, 120]$ minimizes the variability of the temperature across the rod? Exploit the ROM to answer the question.\n",
        "</br></br>\n",
        "*Note:* here, we define the latter as\n",
        "\n",
        "$$\\text{Var}(\\mathbf{u}):=\\frac{1}{N_h}\\sum_{j=1}^{N_h}|\\mathrm{u}_j-\\overline{\\mathrm{u}}|^2,$$\n",
        "\n",
        "where $\\overline{\\mathrm{u}}:=\\frac{1}{N_h}\\sum_{j=1}^{N_h}\\mathrm{u}_j$."
      ],
      "metadata": {
        "id": "i4e4UruF6AyA"
      }
    },
    {
      "cell_type": "code",
      "source": [
        "mu,c"
      ],
      "metadata": {
        "colab": {
          "base_uri": "https://localhost:8080/"
        },
        "id": "nllCq-wJzspe",
        "outputId": "9cdfd4ac-b24c-46d0-df9d-0c670fe64bb4"
      },
      "execution_count": 14,
      "outputs": [
        {
          "output_type": "execute_result",
          "data": {
            "text/plain": [
              "(tensor([[0.0687, 1.1257, 0.0585],\n",
              "         [0.0975, 3.5456, 0.0250],\n",
              "         [0.0866, 2.2574, 0.0297],\n",
              "         [0.0799, 3.0343, 0.0739],\n",
              "         [0.0578, 4.6303, 0.0564],\n",
              "         [0.0578, 1.9972, 0.0206],\n",
              "         [0.0529, 2.6415, 0.0261],\n",
              "         [0.0933, 4.0222, 0.0598],\n",
              "         [0.0801, 1.9152, 0.0203],\n",
              "         [0.0854, 1.3079, 0.0296],\n",
              "         [0.0510, 2.1590, 0.0529],\n",
              "         [0.0985, 1.6449, 0.0615],\n",
              "         [0.0916, 4.7188, 0.0591],\n",
              "         [0.0606, 4.2325, 0.0335],\n",
              "         [0.0591, 3.5336, 0.0627],\n",
              "         [0.0592, 4.4858, 0.0342],\n",
              "         [0.0652, 4.2147, 0.0395],\n",
              "         [0.0762, 1.7463, 0.0648],\n",
              "         [0.0716, 4.5702, 0.0590],\n",
              "         [0.0646, 3.1574, 0.0710],\n",
              "         [0.0806, 4.2298, 0.0595],\n",
              "         [0.0570, 4.5844, 0.0541],\n",
              "         [0.0646, 2.2720, 0.0256],\n",
              "         [0.0683, 1.4402, 0.0421],\n",
              "         [0.0728, 1.9117, 0.0359],\n",
              "         [0.0893, 2.7084, 0.0346],\n",
              "         [0.0600, 4.2721, 0.0784],\n",
              "         [0.0757, 4.4429, 0.0436],\n",
              "         [0.0796, 1.0278, 0.0735],\n",
              "         [0.0523, 3.0430, 0.0579],\n",
              "         [0.0804, 2.6696, 0.0677],\n",
              "         [0.0585, 1.8884, 0.0502],\n",
              "         [0.0533, 1.4795, 0.0546],\n",
              "         [0.0974, 2.3505, 0.0496],\n",
              "         [0.0983, 4.7716, 0.0317],\n",
              "         [0.0904, 2.2928, 0.0633],\n",
              "         [0.0652, 3.0752, 0.0368],\n",
              "         [0.0549, 3.8121, 0.0215],\n",
              "         [0.0842, 2.4545, 0.0587],\n",
              "         [0.0720, 4.8871, 0.0306],\n",
              "         [0.0561, 4.8498, 0.0764],\n",
              "         [0.0748, 2.0071, 0.0772],\n",
              "         [0.0517, 2.9890, 0.0749],\n",
              "         [0.0955, 2.2035, 0.0422],\n",
              "         [0.0629, 2.1394, 0.0209],\n",
              "         [0.0831, 1.1475, 0.0757],\n",
              "         [0.0656, 3.4383, 0.0457],\n",
              "         [0.0760, 3.0107, 0.0780],\n",
              "         [0.0773, 1.2059, 0.0778],\n",
              "         [0.0592, 2.1146, 0.0712],\n",
              "         [0.0985, 4.6331, 0.0377],\n",
              "         [0.0888, 1.9582, 0.0431],\n",
              "         [0.0970, 1.5796, 0.0711],\n",
              "         [0.0947, 2.9578, 0.0390],\n",
              "         [0.0799, 4.9426, 0.0302],\n",
              "         [0.0961, 1.9682, 0.0534],\n",
              "         [0.0544, 3.6885, 0.0762],\n",
              "         [0.0598, 4.0465, 0.0618],\n",
              "         [0.0523, 1.9506, 0.0542],\n",
              "         [0.0663, 3.9129, 0.0258],\n",
              "         [0.0694, 2.4711, 0.0569],\n",
              "         [0.0636, 3.5292, 0.0794],\n",
              "         [0.0914, 3.5341, 0.0284],\n",
              "         [0.0678, 3.1431, 0.0511],\n",
              "         [0.0640, 1.3612, 0.0726],\n",
              "         [0.0771, 4.3412, 0.0644],\n",
              "         [0.0570, 2.2831, 0.0618],\n",
              "         [0.0901, 1.7461, 0.0621],\n",
              "         [0.0537, 1.1631, 0.0416],\n",
              "         [0.0993, 3.3636, 0.0376],\n",
              "         [0.0886, 3.7103, 0.0686],\n",
              "         [0.0599, 1.0664, 0.0686],\n",
              "         [0.0503, 3.0484, 0.0720],\n",
              "         [0.0908, 1.9060, 0.0748],\n",
              "         [0.0853, 3.5807, 0.0507],\n",
              "         [0.0865, 1.6975, 0.0501],\n",
              "         [0.0886, 3.7638, 0.0679],\n",
              "         [0.0537, 2.5469, 0.0590],\n",
              "         [0.0679, 4.7469, 0.0621],\n",
              "         [0.0558, 1.5501, 0.0677],\n",
              "         [0.0932, 2.3643, 0.0734],\n",
              "         [0.0812, 1.4539, 0.0403],\n",
              "         [0.0665, 4.6988, 0.0425],\n",
              "         [0.0532, 4.5094, 0.0256],\n",
              "         [0.0655, 2.0318, 0.0547],\n",
              "         [0.0663, 3.6399, 0.0222],\n",
              "         [0.0865, 4.2689, 0.0479],\n",
              "         [0.0819, 3.2208, 0.0526],\n",
              "         [0.0944, 3.1186, 0.0372],\n",
              "         [0.0736, 1.9674, 0.0554],\n",
              "         [0.0560, 1.3724, 0.0218],\n",
              "         [0.0857, 4.5889, 0.0222],\n",
              "         [0.0880, 4.6017, 0.0694],\n",
              "         [0.0781, 3.5324, 0.0416],\n",
              "         [0.0885, 2.3561, 0.0276],\n",
              "         [0.0747, 2.3968, 0.0513],\n",
              "         [0.0761, 3.9038, 0.0662],\n",
              "         [0.0714, 4.5884, 0.0329],\n",
              "         [0.0513, 4.5483, 0.0574],\n",
              "         [0.0554, 4.1195, 0.0251]], device='cuda:0'),\n",
              " tensor([[-6.1308e+00,  2.6217e-01, -1.0105e-01,  8.9011e-02,  2.1076e-02],\n",
              "         [-6.1309e+00,  2.6228e-01, -1.0106e-01,  8.9011e-02,  2.1078e-02],\n",
              "         [-6.1306e+00,  2.6205e-01, -1.0104e-01,  8.9009e-02,  2.1073e-02],\n",
              "         ...,\n",
              "         [-4.5473e+00, -8.4633e-01, -2.4316e-01,  1.2212e-02,  2.4785e-03],\n",
              "         [-4.5499e+00, -8.4503e-01, -2.4276e-01,  1.2450e-02,  2.4527e-03],\n",
              "         [-4.5486e+00, -8.4568e-01, -2.4296e-01,  1.2335e-02,  2.4639e-03]],\n",
              "        device='cuda:0'))"
            ]
          },
          "metadata": {},
          "execution_count": 14
        }
      ]
    },
    {
      "cell_type": "code",
      "source": [
        "mu.shape"
      ],
      "metadata": {
        "colab": {
          "base_uri": "https://localhost:8080/"
        },
        "id": "wzLfnxg-2hDh",
        "outputId": "9704bcd3-7b37-46ce-e0d8-2acf77ce60b0"
      },
      "execution_count": 29,
      "outputs": [
        {
          "output_type": "execute_result",
          "data": {
            "text/plain": [
              "torch.Size([6, 3])"
            ]
          },
          "metadata": {},
          "execution_count": 29
        }
      ]
    },
    {
      "cell_type": "code",
      "source": [
        "c.shape,mu.shape\n",
        "mu ="
      ],
      "metadata": {
        "colab": {
          "base_uri": "https://localhost:8080/"
        },
        "id": "yenj3LpC270b",
        "outputId": "421a4e28-9720-4a21-d56f-f5ed6dfd4665"
      },
      "execution_count": 18,
      "outputs": [
        {
          "output_type": "execute_result",
          "data": {
            "text/plain": [
              "(torch.Size([6561, 5]), torch.Size([6, 3]))"
            ]
          },
          "metadata": {},
          "execution_count": 18
        }
      ]
    },
    {
      "cell_type": "code",
      "source": [
        "phi = Dense(mu.shape[1], 10) + Dense(10, 10) + Dense(10, 5, activation = None)\n",
        "model = DFNN(phi)\n",
        "model.He()\n",
        "model.moveOn(dv)\n",
        "model.train(mu, c, ntrain = ntrain, epochs = 50, loss = mse(euclidean))"
      ],
      "metadata": {
        "colab": {
          "base_uri": "https://localhost:8080/",
          "height": 348
        },
        "id": "5JQ4F0HHAzPd",
        "outputId": "8bfe011f-386c-45ac-be25-93002fac56fe"
      },
      "execution_count": 19,
      "outputs": [
        {
          "output_type": "error",
          "ename": "RuntimeError",
          "evalue": "The size of tensor a (6558) must match the size of tensor b (6) at non-singleton dimension 0",
          "traceback": [
            "\u001b[0;31m---------------------------------------------------------------------------\u001b[0m",
            "\u001b[0;31mRuntimeError\u001b[0m                              Traceback (most recent call last)",
            "\u001b[0;32m<ipython-input-19-8bad0f8d36db>\u001b[0m in \u001b[0;36m<cell line: 5>\u001b[0;34m()\u001b[0m\n\u001b[1;32m      3\u001b[0m \u001b[0mmodel\u001b[0m\u001b[0;34m.\u001b[0m\u001b[0mHe\u001b[0m\u001b[0;34m(\u001b[0m\u001b[0;34m)\u001b[0m\u001b[0;34m\u001b[0m\u001b[0;34m\u001b[0m\u001b[0m\n\u001b[1;32m      4\u001b[0m \u001b[0mmodel\u001b[0m\u001b[0;34m.\u001b[0m\u001b[0mmoveOn\u001b[0m\u001b[0;34m(\u001b[0m\u001b[0mdv\u001b[0m\u001b[0;34m)\u001b[0m\u001b[0;34m\u001b[0m\u001b[0;34m\u001b[0m\u001b[0m\n\u001b[0;32m----> 5\u001b[0;31m \u001b[0mmodel\u001b[0m\u001b[0;34m.\u001b[0m\u001b[0mtrain\u001b[0m\u001b[0;34m(\u001b[0m\u001b[0mmu\u001b[0m\u001b[0;34m,\u001b[0m \u001b[0mc\u001b[0m\u001b[0;34m,\u001b[0m \u001b[0mntrain\u001b[0m \u001b[0;34m=\u001b[0m \u001b[0mntrain\u001b[0m\u001b[0;34m,\u001b[0m \u001b[0mepochs\u001b[0m \u001b[0;34m=\u001b[0m \u001b[0;36m50\u001b[0m\u001b[0;34m,\u001b[0m \u001b[0mloss\u001b[0m \u001b[0;34m=\u001b[0m \u001b[0mmse\u001b[0m\u001b[0;34m(\u001b[0m\u001b[0meuclidean\u001b[0m\u001b[0;34m)\u001b[0m\u001b[0;34m)\u001b[0m\u001b[0;34m\u001b[0m\u001b[0;34m\u001b[0m\u001b[0m\n\u001b[0m",
            "\u001b[0;32m/usr/local/lib/python3.10/dist-packages/dlroms/roms.py\u001b[0m in \u001b[0;36mtrain\u001b[0;34m(self, mu, u, ntrain, epochs, optim, lr, loss, error, nvalid, verbose, refresh, notation, title, batchsize, slope)\u001b[0m\n\u001b[1;32m    267\u001b[0m                         \u001b[0;32mbreak\u001b[0m\u001b[0;34m\u001b[0m\u001b[0;34m\u001b[0m\u001b[0m\n\u001b[1;32m    268\u001b[0m                     err.append([errorf(getout(Utrain), self(*Mtrain)).item(),\n\u001b[0;32m--> 269\u001b[0;31m                                 \u001b[0merrorf\u001b[0m\u001b[0;34m(\u001b[0m\u001b[0mgetout\u001b[0m\u001b[0;34m(\u001b[0m\u001b[0mUtest\u001b[0m\u001b[0;34m)\u001b[0m\u001b[0;34m,\u001b[0m \u001b[0mself\u001b[0m\u001b[0;34m(\u001b[0m\u001b[0;34m*\u001b[0m\u001b[0mMtest\u001b[0m\u001b[0;34m)\u001b[0m\u001b[0;34m)\u001b[0m\u001b[0;34m.\u001b[0m\u001b[0mitem\u001b[0m\u001b[0;34m(\u001b[0m\u001b[0;34m)\u001b[0m \u001b[0;32mif\u001b[0m \u001b[0mntest\u001b[0m \u001b[0;34m>\u001b[0m \u001b[0;36m0\u001b[0m \u001b[0;32melse\u001b[0m \u001b[0mnp\u001b[0m\u001b[0;34m.\u001b[0m\u001b[0mnan\u001b[0m\u001b[0;34m,\u001b[0m\u001b[0;34m\u001b[0m\u001b[0;34m\u001b[0m\u001b[0m\n\u001b[0m\u001b[1;32m    270\u001b[0m                                 \u001b[0mvaliderr\u001b[0m\u001b[0;34m(\u001b[0m\u001b[0;34m)\u001b[0m\u001b[0;34m,\u001b[0m\u001b[0;34m\u001b[0m\u001b[0;34m\u001b[0m\u001b[0m\n\u001b[1;32m    271\u001b[0m                                ])\n",
            "\u001b[0;32m/usr/local/lib/python3.10/dist-packages/dlroms/roms.py\u001b[0m in \u001b[0;36m<lambda>\u001b[0;34m(a, b)\u001b[0m\n\u001b[1;32m    228\u001b[0m \u001b[0;34m\u001b[0m\u001b[0m\n\u001b[1;32m    229\u001b[0m             \u001b[0mgetout\u001b[0m \u001b[0;34m=\u001b[0m \u001b[0;34m(\u001b[0m\u001b[0;32mlambda\u001b[0m \u001b[0my\u001b[0m\u001b[0;34m:\u001b[0m \u001b[0my\u001b[0m\u001b[0;34m[\u001b[0m\u001b[0;36m0\u001b[0m\u001b[0;34m]\u001b[0m\u001b[0;34m)\u001b[0m \u001b[0;32mif\u001b[0m \u001b[0mlen\u001b[0m\u001b[0;34m(\u001b[0m\u001b[0mU\u001b[0m\u001b[0;34m)\u001b[0m\u001b[0;34m==\u001b[0m\u001b[0;36m1\u001b[0m \u001b[0;32melse\u001b[0m \u001b[0;34m(\u001b[0m\u001b[0;32mlambda\u001b[0m \u001b[0my\u001b[0m\u001b[0;34m:\u001b[0m \u001b[0my\u001b[0m\u001b[0;34m)\u001b[0m\u001b[0;34m\u001b[0m\u001b[0;34m\u001b[0m\u001b[0m\n\u001b[0;32m--> 230\u001b[0;31m             \u001b[0merrorf\u001b[0m \u001b[0;34m=\u001b[0m \u001b[0;34m(\u001b[0m\u001b[0;32mlambda\u001b[0m \u001b[0ma\u001b[0m\u001b[0;34m,\u001b[0m \u001b[0mb\u001b[0m\u001b[0;34m:\u001b[0m \u001b[0merror\u001b[0m\u001b[0;34m(\u001b[0m\u001b[0ma\u001b[0m\u001b[0;34m,\u001b[0m \u001b[0mb\u001b[0m\u001b[0;34m)\u001b[0m\u001b[0;34m)\u001b[0m \u001b[0;32mif\u001b[0m \u001b[0merror\u001b[0m \u001b[0;34m!=\u001b[0m \u001b[0;32mNone\u001b[0m \u001b[0;32melse\u001b[0m \u001b[0;34m(\u001b[0m\u001b[0;32mlambda\u001b[0m \u001b[0ma\u001b[0m\u001b[0;34m,\u001b[0m \u001b[0mb\u001b[0m\u001b[0;34m:\u001b[0m \u001b[0mloss\u001b[0m\u001b[0;34m(\u001b[0m\u001b[0ma\u001b[0m\u001b[0;34m,\u001b[0m \u001b[0mb\u001b[0m\u001b[0;34m)\u001b[0m\u001b[0;34m)\u001b[0m\u001b[0;34m\u001b[0m\u001b[0;34m\u001b[0m\u001b[0m\n\u001b[0m\u001b[1;32m    231\u001b[0m             \u001b[0mvaliderr\u001b[0m \u001b[0;34m=\u001b[0m \u001b[0;34m(\u001b[0m\u001b[0;32mlambda\u001b[0m \u001b[0;34m:\u001b[0m \u001b[0mnp\u001b[0m\u001b[0;34m.\u001b[0m\u001b[0mnan\u001b[0m\u001b[0;34m)\u001b[0m \u001b[0;32mif\u001b[0m \u001b[0mnvalid\u001b[0m \u001b[0;34m==\u001b[0m \u001b[0;36m0\u001b[0m \u001b[0;32melse\u001b[0m \u001b[0;34m(\u001b[0m\u001b[0;32mlambda\u001b[0m \u001b[0;34m:\u001b[0m \u001b[0merrorf\u001b[0m\u001b[0;34m(\u001b[0m\u001b[0mgetout\u001b[0m\u001b[0;34m(\u001b[0m\u001b[0mUvalid\u001b[0m\u001b[0;34m)\u001b[0m\u001b[0;34m,\u001b[0m \u001b[0mself\u001b[0m\u001b[0;34m(\u001b[0m\u001b[0;34m*\u001b[0m\u001b[0mMvalid\u001b[0m\u001b[0;34m)\u001b[0m\u001b[0;34m)\u001b[0m\u001b[0;34m.\u001b[0m\u001b[0mitem\u001b[0m\u001b[0;34m(\u001b[0m\u001b[0;34m)\u001b[0m\u001b[0;34m)\u001b[0m\u001b[0;34m\u001b[0m\u001b[0;34m\u001b[0m\u001b[0m\n\u001b[1;32m    232\u001b[0m \u001b[0;34m\u001b[0m\u001b[0m\n",
            "\u001b[0;32m/usr/local/lib/python3.10/dist-packages/dlroms/roms.py\u001b[0m in \u001b[0;36m<lambda>\u001b[0;34m(utrue, upred)\u001b[0m\n\u001b[1;32m     31\u001b[0m \u001b[0;34m\u001b[0m\u001b[0m\n\u001b[1;32m     32\u001b[0m \u001b[0mmre\u001b[0m \u001b[0;34m=\u001b[0m \u001b[0;32mlambda\u001b[0m \u001b[0mnorm\u001b[0m\u001b[0;34m:\u001b[0m \u001b[0;32mlambda\u001b[0m \u001b[0mutrue\u001b[0m\u001b[0;34m,\u001b[0m \u001b[0mupred\u001b[0m\u001b[0;34m:\u001b[0m \u001b[0;34m(\u001b[0m\u001b[0mnorm\u001b[0m\u001b[0;34m(\u001b[0m\u001b[0mutrue\u001b[0m\u001b[0;34m-\u001b[0m\u001b[0mupred\u001b[0m\u001b[0;34m)\u001b[0m\u001b[0;34m/\u001b[0m\u001b[0mnorm\u001b[0m\u001b[0;34m(\u001b[0m\u001b[0mutrue\u001b[0m\u001b[0;34m)\u001b[0m\u001b[0;34m)\u001b[0m\u001b[0;34m.\u001b[0m\u001b[0mmean\u001b[0m\u001b[0;34m(\u001b[0m\u001b[0;34m)\u001b[0m\u001b[0;34m\u001b[0m\u001b[0;34m\u001b[0m\u001b[0m\n\u001b[0;32m---> 33\u001b[0;31m \u001b[0mmse\u001b[0m \u001b[0;34m=\u001b[0m \u001b[0;32mlambda\u001b[0m \u001b[0mnorm\u001b[0m\u001b[0;34m:\u001b[0m \u001b[0;32mlambda\u001b[0m \u001b[0mutrue\u001b[0m\u001b[0;34m,\u001b[0m \u001b[0mupred\u001b[0m\u001b[0;34m:\u001b[0m \u001b[0mnorm\u001b[0m\u001b[0;34m(\u001b[0m\u001b[0mutrue\u001b[0m\u001b[0;34m-\u001b[0m\u001b[0mupred\u001b[0m\u001b[0;34m,\u001b[0m \u001b[0msquared\u001b[0m \u001b[0;34m=\u001b[0m \u001b[0;32mTrue\u001b[0m\u001b[0;34m)\u001b[0m\u001b[0;34m.\u001b[0m\u001b[0mmean\u001b[0m\u001b[0;34m(\u001b[0m\u001b[0;34m)\u001b[0m\u001b[0;34m\u001b[0m\u001b[0;34m\u001b[0m\u001b[0m\n\u001b[0m\u001b[1;32m     34\u001b[0m \u001b[0mmrei\u001b[0m \u001b[0;34m=\u001b[0m \u001b[0;32mlambda\u001b[0m \u001b[0mnorm\u001b[0m\u001b[0;34m:\u001b[0m \u001b[0;32mlambda\u001b[0m \u001b[0mutrue\u001b[0m\u001b[0;34m,\u001b[0m \u001b[0mupred\u001b[0m\u001b[0;34m:\u001b[0m \u001b[0;34m(\u001b[0m\u001b[0mnorm\u001b[0m\u001b[0;34m(\u001b[0m\u001b[0mutrue\u001b[0m\u001b[0;34m-\u001b[0m\u001b[0mupred\u001b[0m\u001b[0;34m)\u001b[0m\u001b[0;34m/\u001b[0m\u001b[0mnorm\u001b[0m\u001b[0;34m(\u001b[0m\u001b[0mutrue\u001b[0m\u001b[0;34m)\u001b[0m\u001b[0;34m)\u001b[0m\u001b[0;34m.\u001b[0m\u001b[0mmean\u001b[0m\u001b[0;34m(\u001b[0m\u001b[0;34m)\u001b[0m\u001b[0;34m.\u001b[0m\u001b[0mitem\u001b[0m\u001b[0;34m(\u001b[0m\u001b[0;34m)\u001b[0m\u001b[0;34m\u001b[0m\u001b[0;34m\u001b[0m\u001b[0m\n\u001b[1;32m     35\u001b[0m \u001b[0mmsei\u001b[0m \u001b[0;34m=\u001b[0m \u001b[0;32mlambda\u001b[0m \u001b[0mnorm\u001b[0m\u001b[0;34m:\u001b[0m \u001b[0;32mlambda\u001b[0m \u001b[0mutrue\u001b[0m\u001b[0;34m,\u001b[0m \u001b[0mupred\u001b[0m\u001b[0;34m:\u001b[0m \u001b[0mnorm\u001b[0m\u001b[0;34m(\u001b[0m\u001b[0mutrue\u001b[0m\u001b[0;34m-\u001b[0m\u001b[0mupred\u001b[0m\u001b[0;34m,\u001b[0m \u001b[0msquared\u001b[0m \u001b[0;34m=\u001b[0m \u001b[0;32mTrue\u001b[0m\u001b[0;34m)\u001b[0m\u001b[0;34m.\u001b[0m\u001b[0mmean\u001b[0m\u001b[0;34m(\u001b[0m\u001b[0;34m)\u001b[0m\u001b[0;34m.\u001b[0m\u001b[0mitem\u001b[0m\u001b[0;34m(\u001b[0m\u001b[0;34m)\u001b[0m\u001b[0;34m\u001b[0m\u001b[0;34m\u001b[0m\u001b[0m\n",
            "\u001b[0;31mRuntimeError\u001b[0m: The size of tensor a (6558) must match the size of tensor b (6) at non-singleton dimension 0"
          ]
        }
      ]
    },
    {
      "cell_type": "code",
      "source": [
        "mu.shape[1]"
      ],
      "metadata": {
        "id": "Kd0bB-bYBuWT",
        "colab": {
          "base_uri": "https://localhost:8080/"
        },
        "outputId": "f8fb844d-abd1-4381-f16d-4467aa56ad19"
      },
      "execution_count": 24,
      "outputs": [
        {
          "output_type": "execute_result",
          "data": {
            "text/plain": [
              "3"
            ]
          },
          "metadata": {},
          "execution_count": 24
        }
      ]
    }
  ]
}